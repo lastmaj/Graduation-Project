{
  "nbformat": 4,
  "nbformat_minor": 0,
  "metadata": {
    "colab": {
      "name": "1.6mil-cleaning.ipynb",
      "provenance": [],
      "collapsed_sections": []
    },
    "kernelspec": {
      "name": "python3",
      "display_name": "Python 3"
    }
  },
  "cells": [
    {
      "cell_type": "markdown",
      "metadata": {
        "id": "CM3Iuv076p6h",
        "colab_type": "text"
      },
      "source": [
        "# Imports and Drive setup\n",
        "\n"
      ]
    },
    {
      "cell_type": "code",
      "metadata": {
        "id": "roZCW0FF-Bdl",
        "colab_type": "code",
        "colab": {}
      },
      "source": [
        "!pip install -U -q PyDrive\n",
        "from pydrive.auth import GoogleAuth\n",
        "from pydrive.drive import GoogleDrive\n",
        "from google.colab import auth\n",
        "from oauth2client.client import GoogleCredentials\n",
        "# Authenticate and create the PyDrive client.\n",
        "auth.authenticate_user()\n",
        "gauth = GoogleAuth()\n",
        "gauth.credentials = GoogleCredentials.get_application_default()\n",
        "drive = GoogleDrive(gauth)"
      ],
      "execution_count": 0,
      "outputs": []
    },
    {
      "cell_type": "code",
      "metadata": {
        "id": "lSphpyoQ_hTC",
        "colab_type": "code",
        "colab": {}
      },
      "source": [
        "import numpy as np\n",
        "import matplotlib.pyplot as plt\n",
        "import pandas as pd\n",
        "import time\n",
        "import re\n",
        "import string\n"
      ],
      "execution_count": 0,
      "outputs": []
    },
    {
      "cell_type": "code",
      "metadata": {
        "id": "c5bAxo6o-KdM",
        "colab_type": "code",
        "outputId": "bc6fa97f-1ad4-4f84-a334-7f4f8a149db6",
        "colab": {
          "base_uri": "https://localhost:8080/",
          "height": 33
        }
      },
      "source": [
        "link='https://drive.google.com/open?id=1GfJxKrcClls4zWHUTFMkHM-Z6nebIrdB'\n",
        "fluff, id = link.split('=')\n",
        "print (id) # Verify that you have everything after '='\n",
        "downloaded = drive.CreateFile({'id':id})\n",
        "downloaded.GetContentFile('1mil6.csv')"
      ],
      "execution_count": 3,
      "outputs": [
        {
          "output_type": "stream",
          "text": [
            "1GfJxKrcClls4zWHUTFMkHM-Z6nebIrdB\n"
          ],
          "name": "stdout"
        }
      ]
    },
    {
      "cell_type": "markdown",
      "metadata": {
        "id": "qgxqKkij62gX",
        "colab_type": "text"
      },
      "source": [
        "# Reading the csv into a dataframe"
      ]
    },
    {
      "cell_type": "code",
      "metadata": {
        "id": "K0tSwfRu_I9D",
        "colab_type": "code",
        "colab": {}
      },
      "source": [
        "cols = ['sentiment','id','date','query_string','user','text']\n",
        "df = pd.read_csv(\"1mil6.csv\",header=None , names=cols, engine=\"python\")"
      ],
      "execution_count": 0,
      "outputs": []
    },
    {
      "cell_type": "code",
      "metadata": {
        "id": "fqFiCiQklImL",
        "colab_type": "code",
        "colab": {}
      },
      "source": [
        "df.drop(['id','date','query_string','user'],axis=1,inplace=True)"
      ],
      "execution_count": 0,
      "outputs": []
    },
    {
      "cell_type": "markdown",
      "metadata": {
        "id": "o1l08FGy7AYA",
        "colab_type": "text"
      },
      "source": [
        "# Text Cleaning\n",
        "Minimal text cleaning, consisting of removing irrelevent information (urls, handlers, numbers, ... )"
      ]
    },
    {
      "cell_type": "code",
      "metadata": {
        "id": "v0jF9OVz0IgQ",
        "colab_type": "code",
        "colab": {}
      },
      "source": [
        "def clean_text(text):\n",
        "  # sub &amp by '&'\n",
        "  text = re.sub('&amp;', ' and ', text)\n",
        "\n",
        "  # remove urls\n",
        "  # courtesy of 'https://stackoverflow.com/questions/3809401/what-is-a-good-regular-expression-to-match-a-url'\n",
        "  url_regex = '(https?:\\/\\/(?:www\\.|(?!www))[a-zA-Z0-9][a-zA-Z0-9-]+[a-zA-Z0-9]\\.[^\\s]{2,}|www\\.[a-zA-Z0-9][a-zA-Z0-9-]+[a-zA-Z0-9]\\.[^\\s]{2,}|https?:\\/\\/(?:www\\.|(?!www))[a-zA-Z0-9]+\\.[^\\s]{2,}|www\\.[a-zA-Z0-9]+\\.[^\\s]{2,})'\n",
        "  text = re.sub(url_regex, ' ', text)\n",
        "\n",
        "  # remove twitter handlers\n",
        "  twitter_handle_regex = '@([A-Za-z0-9_]+)'\n",
        "  text = re.sub(twitter_handle_regex, ' ', text)\n",
        "\n",
        "  # remove UTF-8 BOM chars\n",
        "  text = re.sub('�', '', text)\n",
        "\n",
        "  # remove numbers and hashtags\n",
        "  text = re.sub('([0-9#])', '', text)\n",
        "\n",
        "  # remove punctuation\n",
        "  text = text.translate(str.maketrans('', '', string.punctuation))\n",
        "  \n",
        "  # remove extra whitespaces\n",
        "  text = re.sub(' +', ' ', text)\n",
        "\n",
        "  return text.lower()"
      ],
      "execution_count": 0,
      "outputs": []
    },
    {
      "cell_type": "code",
      "metadata": {
        "id": "6Q8DiY8i9ds2",
        "colab_type": "code",
        "colab": {
          "base_uri": "https://localhost:8080/",
          "height": 33
        },
        "outputId": "ff1b7724-fc09-4541-b107-343c5b91f799"
      },
      "source": [
        "clean_text(df['text'][1])"
      ],
      "execution_count": 83,
      "outputs": [
        {
          "output_type": "execute_result",
          "data": {
            "text/plain": [
              "'is upset that he cant update his facebook by texting it and might cry as a result school today also blah'"
            ]
          },
          "metadata": {
            "tags": []
          },
          "execution_count": 83
        }
      ]
    },
    {
      "cell_type": "markdown",
      "metadata": {
        "id": "-XpKOfQk7TQS",
        "colab_type": "text"
      },
      "source": [
        "# Cleaning the dataset and saving the new csv to drive"
      ]
    },
    {
      "cell_type": "code",
      "metadata": {
        "id": "G34s80Fk7Sof",
        "colab_type": "code",
        "colab": {
          "base_uri": "https://localhost:8080/",
          "height": 82
        },
        "outputId": "7e8e1595-8715-4929-e180-96742ff74531"
      },
      "source": [
        "#text comprehension with progress update every 400k processes.\n",
        "clean_tweets = [(i % 400000 == 0 and print(i)) or clean_text(text) for i, text in enumerate(df['text'])]"
      ],
      "execution_count": 84,
      "outputs": [
        {
          "output_type": "stream",
          "text": [
            "0\n",
            "400000\n",
            "800000\n",
            "1200000\n"
          ],
          "name": "stdout"
        }
      ]
    },
    {
      "cell_type": "markdown",
      "metadata": {
        "id": "050H9sO0AIR9",
        "colab_type": "text"
      },
      "source": [
        "## Saving the new csv to google drive\n"
      ]
    },
    {
      "cell_type": "markdown",
      "metadata": {
        "id": "CNvRVdpaBSZt",
        "colab_type": "text"
      },
      "source": [
        "### Creating a clean dataframe\n"
      ]
    },
    {
      "cell_type": "code",
      "metadata": {
        "id": "b2-nd9jG86zh",
        "colab_type": "code",
        "colab": {
          "base_uri": "https://localhost:8080/",
          "height": 191
        },
        "outputId": "b7f0effb-392f-4df0-9d6d-5d63467b279a"
      },
      "source": [
        "clean_df = pd.DataFrame(clean_tweets,columns=['text'])\n",
        "clean_df['sentiment'] = df.sentiment\n",
        "clean_df.head()"
      ],
      "execution_count": 85,
      "outputs": [
        {
          "output_type": "execute_result",
          "data": {
            "text/html": [
              "<div>\n",
              "<style scoped>\n",
              "    .dataframe tbody tr th:only-of-type {\n",
              "        vertical-align: middle;\n",
              "    }\n",
              "\n",
              "    .dataframe tbody tr th {\n",
              "        vertical-align: top;\n",
              "    }\n",
              "\n",
              "    .dataframe thead th {\n",
              "        text-align: right;\n",
              "    }\n",
              "</style>\n",
              "<table border=\"1\" class=\"dataframe\">\n",
              "  <thead>\n",
              "    <tr style=\"text-align: right;\">\n",
              "      <th></th>\n",
              "      <th>text</th>\n",
              "      <th>sentiment</th>\n",
              "    </tr>\n",
              "  </thead>\n",
              "  <tbody>\n",
              "    <tr>\n",
              "      <th>0</th>\n",
              "      <td>awww thats a bummer you shoulda got david car...</td>\n",
              "      <td>0</td>\n",
              "    </tr>\n",
              "    <tr>\n",
              "      <th>1</th>\n",
              "      <td>is upset that he cant update his facebook by t...</td>\n",
              "      <td>0</td>\n",
              "    </tr>\n",
              "    <tr>\n",
              "      <th>2</th>\n",
              "      <td>i dived many times for the ball managed to sa...</td>\n",
              "      <td>0</td>\n",
              "    </tr>\n",
              "    <tr>\n",
              "      <th>3</th>\n",
              "      <td>my whole body feels itchy and like its on fire</td>\n",
              "      <td>0</td>\n",
              "    </tr>\n",
              "    <tr>\n",
              "      <th>4</th>\n",
              "      <td>no its not behaving at all im mad why am i he...</td>\n",
              "      <td>0</td>\n",
              "    </tr>\n",
              "  </tbody>\n",
              "</table>\n",
              "</div>"
            ],
            "text/plain": [
              "                                                text  sentiment\n",
              "0   awww thats a bummer you shoulda got david car...          0\n",
              "1  is upset that he cant update his facebook by t...          0\n",
              "2   i dived many times for the ball managed to sa...          0\n",
              "3    my whole body feels itchy and like its on fire           0\n",
              "4   no its not behaving at all im mad why am i he...          0"
            ]
          },
          "metadata": {
            "tags": []
          },
          "execution_count": 85
        }
      ]
    },
    {
      "cell_type": "markdown",
      "metadata": {
        "id": "1gbsbISTBWdE",
        "colab_type": "text"
      },
      "source": [
        "### Saving to drive as csv"
      ]
    },
    {
      "cell_type": "code",
      "metadata": {
        "id": "-GtRSGhfBorD",
        "colab_type": "code",
        "colab": {
          "base_uri": "https://localhost:8080/",
          "height": 33
        },
        "outputId": "1e4641e9-e93f-4683-801d-1d1ee245340d"
      },
      "source": [
        "clean_df.to_csv(\"clean.csv\")\n",
        "uploaded = drive.CreateFile({'title': 'clean.csv'})\n",
        "uploaded.SetContentFile(\"clean.csv\")\n",
        "uploaded.Upload()\n",
        "print('Uploaded file with ID {}'.format(uploaded.get('id')))"
      ],
      "execution_count": 87,
      "outputs": [
        {
          "output_type": "stream",
          "text": [
            "Uploaded file with ID 1XyM6a8dIs6XZJwgsQ86Qx9aWn_SH1QP_\n"
          ],
          "name": "stdout"
        }
      ]
    }
  ]
}