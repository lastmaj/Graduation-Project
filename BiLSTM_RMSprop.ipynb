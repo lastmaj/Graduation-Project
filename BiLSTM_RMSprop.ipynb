{
  "nbformat": 4,
  "nbformat_minor": 0,
  "metadata": {
    "colab": {
      "name": "bidirectional LSTMs.ipynb",
      "provenance": []
    },
    "kernelspec": {
      "name": "python3",
      "display_name": "Python 3"
    }
  },
  "cells": [
    {
      "cell_type": "markdown",
      "metadata": {
        "id": "7-XzimXyphNE",
        "colab_type": "text"
      },
      "source": [
        "# 2nd architecture\n",
        "\n",
        "Instead of normal LSTMs, we will use bidirectionnal LTSMs and compare, then build on top of the better network (add aditional layers, ... )\n"
      ]
    },
    {
      "cell_type": "code",
      "metadata": {
        "id": "_BngOD_eqenU",
        "colab_type": "code",
        "outputId": "3d79434e-095b-4d7e-c764-6ea9c5b32870",
        "colab": {
          "base_uri": "https://localhost:8080/",
          "height": 131
        }
      },
      "source": [
        "import pandas as pd\n",
        "import numpy as np\n",
        "import re\n",
        "import nltk\n",
        "import seaborn as sns\n",
        "\n",
        "from nltk.tokenize import word_tokenize\n",
        "from nltk.corpus import wordnet\n",
        "from nltk.corpus import stopwords\n",
        "from nltk.stem import WordNetLemmatizer \n",
        "\n",
        "nltk.download('wordnet')\n",
        "nltk.download('stopwords')\n",
        "nltk.download('punkt')"
      ],
      "execution_count": 1,
      "outputs": [
        {
          "output_type": "stream",
          "text": [
            "[nltk_data] Downloading package wordnet to /root/nltk_data...\n",
            "[nltk_data]   Package wordnet is already up-to-date!\n",
            "[nltk_data] Downloading package stopwords to /root/nltk_data...\n",
            "[nltk_data]   Package stopwords is already up-to-date!\n",
            "[nltk_data] Downloading package punkt to /root/nltk_data...\n",
            "[nltk_data]   Package punkt is already up-to-date!\n"
          ],
          "name": "stdout"
        },
        {
          "output_type": "execute_result",
          "data": {
            "text/plain": [
              "True"
            ]
          },
          "metadata": {
            "tags": []
          },
          "execution_count": 1
        }
      ]
    },
    {
      "cell_type": "code",
      "metadata": {
        "id": "EUFkDTrmqh7L",
        "colab_type": "code",
        "colab": {}
      },
      "source": [
        "# import a file from drive : \n",
        "!pip install -U -q PyDrive\n",
        "from pydrive.auth import GoogleAuth\n",
        "from pydrive.drive import GoogleDrive\n",
        "from google.colab import auth\n",
        "from oauth2client.client import GoogleCredentials\n",
        "# Authenticate and create the PyDrive client.\n",
        "auth.authenticate_user()\n",
        "gauth = GoogleAuth()\n",
        "gauth.credentials = GoogleCredentials.get_application_default()\n",
        "drive = GoogleDrive(gauth)"
      ],
      "execution_count": 0,
      "outputs": []
    },
    {
      "cell_type": "code",
      "metadata": {
        "id": "WUS8yhj5qnVr",
        "colab_type": "code",
        "outputId": "60f7ba21-d788-4bec-ce01-2dd3b8329e66",
        "colab": {
          "base_uri": "https://localhost:8080/",
          "height": 33
        }
      },
      "source": [
        "link = 'https://drive.google.com/open?id=1g2BefhpdVbg6aeFcngD52p_HLza6nQDm'\n",
        "fluff, id = link.split('=')\n",
        "print (id) # Verify that you have everything after '='\n",
        "downloaded = drive.CreateFile({'id':id}) \n",
        "downloaded.GetContentFile('IMDB Dataset.csv')  \n",
        "imdb = pd.read_csv('IMDB Dataset.csv')\n",
        "x = imdb[\"review\"]\n",
        "y = [1 if word==\"positive\" else 0 for word in imdb[\"sentiment\"]]\n",
        "\n",
        "stop_words = set(stopwords.words('english'))- set(['no', 'not', 'nor'])\n",
        "lemmatizer = WordNetLemmatizer() \n",
        "\n",
        "def preprocess_text(text):\n",
        "  text = text.lower()\n",
        "  # Removing html tags\n",
        "  text = re.sub(r'<[^>]+>', '', text)\n",
        "  \n",
        "  # Remove punctuations and numbers\n",
        "  text = re.sub('[^a-zA-Z]', ' ', text)\n",
        "\n",
        "  # Remove subsequent spaces\n",
        "  text = re.sub(r'\\s+', ' ', text)\n",
        "  \n",
        "  # Remove stop words\n",
        "  text = text.split()\n",
        "  text = [word for word in text if not word in stop_words]\n",
        "  text = ' '.join(text)\n",
        "  return text\n",
        "\n",
        "x = [preprocess_text(review) for review in imdb[\"review\"]]"
      ],
      "execution_count": 3,
      "outputs": [
        {
          "output_type": "stream",
          "text": [
            "1g2BefhpdVbg6aeFcngD52p_HLza6nQDm\n"
          ],
          "name": "stdout"
        }
      ]
    },
    {
      "cell_type": "code",
      "metadata": {
        "id": "WedOsr9Qk2WN",
        "colab_type": "code",
        "colab": {
          "base_uri": "https://localhost:8080/",
          "height": 53
        },
        "outputId": "41dd4405-e884-4dfc-f5ee-df8d0c4826ae"
      },
      "source": [
        "x[5]"
      ],
      "execution_count": 4,
      "outputs": [
        {
          "output_type": "execute_result",
          "data": {
            "text/plain": [
              "'probably time favorite movie story selflessness sacrifice dedication noble cause not preachy boring never gets old despite seen times last years paul lukas performance brings tears eyes bette davis one truly sympathetic roles delight kids grandma says like dressed midgets children makes fun watch mother slow awakening happening world roof believable startling dozen thumbs movie'"
            ]
          },
          "metadata": {
            "tags": []
          },
          "execution_count": 4
        }
      ]
    },
    {
      "cell_type": "code",
      "metadata": {
        "id": "4rnncNzwkND6",
        "colab_type": "code",
        "colab": {
          "base_uri": "https://localhost:8080/",
          "height": 77
        },
        "outputId": "873c6c6d-10c8-40b7-fa67-12027f91e47b"
      },
      "source": [
        "from keras.preprocessing import sequence \n",
        "from keras.preprocessing.text import Tokenizer\n",
        "from keras.preprocessing.sequence import pad_sequences\n",
        "\n",
        "max_words = 120\n",
        "\n",
        "y = [1 if sentiment=='positive' else 0 for sentiment in list(imdb['sentiment'])]\n",
        "tokenizer = Tokenizer()\n",
        "tokenizer.fit_on_texts(x)\n",
        "x = pad_sequences(tokenizer.texts_to_sequences(x), maxlen=max_words, padding=\"post\")"
      ],
      "execution_count": 5,
      "outputs": [
        {
          "output_type": "stream",
          "text": [
            "Using TensorFlow backend.\n"
          ],
          "name": "stderr"
        },
        {
          "output_type": "display_data",
          "data": {
            "text/html": [
              "<p style=\"color: red;\">\n",
              "The default version of TensorFlow in Colab will soon switch to TensorFlow 2.x.<br>\n",
              "We recommend you <a href=\"https://www.tensorflow.org/guide/migrate\" target=\"_blank\">upgrade</a> now \n",
              "or ensure your notebook will continue to use TensorFlow 1.x via the <code>%tensorflow_version 1.x</code> magic:\n",
              "<a href=\"https://colab.research.google.com/notebooks/tensorflow_version.ipynb\" target=\"_blank\">more info</a>.</p>\n"
            ],
            "text/plain": [
              "<IPython.core.display.HTML object>"
            ]
          },
          "metadata": {
            "tags": []
          }
        }
      ]
    },
    {
      "cell_type": "code",
      "metadata": {
        "id": "POqAVZ0tqq5z",
        "colab_type": "code",
        "outputId": "53550e8e-8524-4efc-85c9-cb8070266a06",
        "colab": {
          "base_uri": "https://localhost:8080/",
          "height": 622
        }
      },
      "source": [
        "# Build the model\n",
        "from keras import Sequential\n",
        "from keras.layers import Embedding, LSTM, Dense, Dropout, Bidirectional\n",
        "from keras import optimizers\n",
        "\n",
        "\n",
        "# Set the vocab size for all words\n",
        "vocabulary_size = len(tokenizer.word_counts.keys())+1\n",
        "print(\"[vocab size is : \"+str(vocabulary_size)+ \" ]\")\n",
        "# vocabulary_size = 25000\n",
        "\n",
        "embedding_size=32\n",
        "model=Sequential()\n",
        "model.add(Embedding(vocabulary_size, embedding_size, input_length=max_words))\n",
        "model.add(Dropout(0.2))\n",
        "model.add(LSTM(64, dropout=0.2, recurrent_dropout=0.2))\n",
        "model.add(Dense(1, activation='sigmoid'))\n",
        "\n",
        "\n",
        "model.compile(optimizer= 'RMSprop', loss='binary_crossentropy', metrics=['acc'])\n",
        "\n",
        "print(model.summary())\n",
        "\n"
      ],
      "execution_count": 6,
      "outputs": [
        {
          "output_type": "stream",
          "text": [
            "[vocab size is : 101249 ]\n",
            "WARNING:tensorflow:From /usr/local/lib/python3.6/dist-packages/keras/backend/tensorflow_backend.py:66: The name tf.get_default_graph is deprecated. Please use tf.compat.v1.get_default_graph instead.\n",
            "\n",
            "WARNING:tensorflow:From /usr/local/lib/python3.6/dist-packages/keras/backend/tensorflow_backend.py:541: The name tf.placeholder is deprecated. Please use tf.compat.v1.placeholder instead.\n",
            "\n",
            "WARNING:tensorflow:From /usr/local/lib/python3.6/dist-packages/keras/backend/tensorflow_backend.py:4432: The name tf.random_uniform is deprecated. Please use tf.random.uniform instead.\n",
            "\n",
            "WARNING:tensorflow:From /usr/local/lib/python3.6/dist-packages/keras/backend/tensorflow_backend.py:148: The name tf.placeholder_with_default is deprecated. Please use tf.compat.v1.placeholder_with_default instead.\n",
            "\n",
            "WARNING:tensorflow:From /usr/local/lib/python3.6/dist-packages/keras/backend/tensorflow_backend.py:3733: calling dropout (from tensorflow.python.ops.nn_ops) with keep_prob is deprecated and will be removed in a future version.\n",
            "Instructions for updating:\n",
            "Please use `rate` instead of `keep_prob`. Rate should be set to `rate = 1 - keep_prob`.\n",
            "WARNING:tensorflow:From /usr/local/lib/python3.6/dist-packages/keras/optimizers.py:793: The name tf.train.Optimizer is deprecated. Please use tf.compat.v1.train.Optimizer instead.\n",
            "\n",
            "WARNING:tensorflow:From /usr/local/lib/python3.6/dist-packages/keras/backend/tensorflow_backend.py:3657: The name tf.log is deprecated. Please use tf.math.log instead.\n",
            "\n",
            "WARNING:tensorflow:From /usr/local/lib/python3.6/dist-packages/tensorflow_core/python/ops/nn_impl.py:183: where (from tensorflow.python.ops.array_ops) is deprecated and will be removed in a future version.\n",
            "Instructions for updating:\n",
            "Use tf.where in 2.0, which has the same broadcast rule as np.where\n",
            "Model: \"sequential_1\"\n",
            "_________________________________________________________________\n",
            "Layer (type)                 Output Shape              Param #   \n",
            "=================================================================\n",
            "embedding_1 (Embedding)      (None, 120, 32)           3239968   \n",
            "_________________________________________________________________\n",
            "dropout_1 (Dropout)          (None, 120, 32)           0         \n",
            "_________________________________________________________________\n",
            "lstm_1 (LSTM)                (None, 64)                24832     \n",
            "_________________________________________________________________\n",
            "dense_1 (Dense)              (None, 1)                 65        \n",
            "=================================================================\n",
            "Total params: 3,264,865\n",
            "Trainable params: 3,264,865\n",
            "Non-trainable params: 0\n",
            "_________________________________________________________________\n",
            "None\n"
          ],
          "name": "stdout"
        }
      ]
    },
    {
      "cell_type": "code",
      "metadata": {
        "id": "NIb95qRVsZ9L",
        "colab_type": "code",
        "colab": {}
      },
      "source": [
        "from sklearn.model_selection import train_test_split\n",
        "xTrain, xTest, yTrain, yTest = train_test_split(x, y, test_size = 0.1, random_state = 0)"
      ],
      "execution_count": 0,
      "outputs": []
    },
    {
      "cell_type": "code",
      "metadata": {
        "id": "I5IznjIkshHL",
        "colab_type": "code",
        "outputId": "26dd66e0-5999-4511-c028-cb28dd9bfbc6",
        "colab": {
          "base_uri": "https://localhost:8080/",
          "height": 508
        }
      },
      "source": [
        "batchSize = 1024\n",
        "epochs = 6\n",
        "hist = model.fit(xTrain, yTrain, batch_size=batchSize, epochs=epochs, verbose=1, shuffle=True, validation_split=0.2)\n",
        "\n"
      ],
      "execution_count": 8,
      "outputs": [
        {
          "output_type": "stream",
          "text": [
            "WARNING:tensorflow:From /usr/local/lib/python3.6/dist-packages/keras/backend/tensorflow_backend.py:1033: The name tf.assign_add is deprecated. Please use tf.compat.v1.assign_add instead.\n",
            "\n",
            "WARNING:tensorflow:From /usr/local/lib/python3.6/dist-packages/keras/backend/tensorflow_backend.py:1020: The name tf.assign is deprecated. Please use tf.compat.v1.assign instead.\n",
            "\n",
            "WARNING:tensorflow:From /usr/local/lib/python3.6/dist-packages/keras/backend/tensorflow_backend.py:3005: The name tf.Session is deprecated. Please use tf.compat.v1.Session instead.\n",
            "\n",
            "Train on 36000 samples, validate on 9000 samples\n",
            "Epoch 1/6\n",
            "WARNING:tensorflow:From /usr/local/lib/python3.6/dist-packages/keras/backend/tensorflow_backend.py:190: The name tf.get_default_session is deprecated. Please use tf.compat.v1.get_default_session instead.\n",
            "\n",
            "WARNING:tensorflow:From /usr/local/lib/python3.6/dist-packages/keras/backend/tensorflow_backend.py:197: The name tf.ConfigProto is deprecated. Please use tf.compat.v1.ConfigProto instead.\n",
            "\n",
            "WARNING:tensorflow:From /usr/local/lib/python3.6/dist-packages/keras/backend/tensorflow_backend.py:207: The name tf.global_variables is deprecated. Please use tf.compat.v1.global_variables instead.\n",
            "\n",
            "WARNING:tensorflow:From /usr/local/lib/python3.6/dist-packages/keras/backend/tensorflow_backend.py:216: The name tf.is_variable_initialized is deprecated. Please use tf.compat.v1.is_variable_initialized instead.\n",
            "\n",
            "WARNING:tensorflow:From /usr/local/lib/python3.6/dist-packages/keras/backend/tensorflow_backend.py:223: The name tf.variables_initializer is deprecated. Please use tf.compat.v1.variables_initializer instead.\n",
            "\n",
            "36000/36000 [==============================] - 50s 1ms/step - loss: 0.6645 - acc: 0.5888 - val_loss: 0.4894 - val_acc: 0.8119\n",
            "Epoch 2/6\n",
            "36000/36000 [==============================] - 48s 1ms/step - loss: 0.5188 - acc: 0.7935 - val_loss: 0.4713 - val_acc: 0.7967\n",
            "Epoch 3/6\n",
            "36000/36000 [==============================] - 48s 1ms/step - loss: 0.4404 - acc: 0.8419 - val_loss: 0.4425 - val_acc: 0.8408\n",
            "Epoch 4/6\n",
            "36000/36000 [==============================] - 48s 1ms/step - loss: 0.3776 - acc: 0.8727 - val_loss: 0.3714 - val_acc: 0.8660\n",
            "Epoch 5/6\n",
            "36000/36000 [==============================] - 49s 1ms/step - loss: 0.3270 - acc: 0.8934 - val_loss: 0.3204 - val_acc: 0.8778\n",
            "Epoch 6/6\n",
            "36000/36000 [==============================] - 49s 1ms/step - loss: 0.2962 - acc: 0.9061 - val_loss: 0.3229 - val_acc: 0.8891\n"
          ],
          "name": "stdout"
        }
      ]
    },
    {
      "cell_type": "code",
      "metadata": {
        "id": "DdAJFCh0sjAr",
        "colab_type": "code",
        "outputId": "bfcc0970-6e0f-4400-9427-09312f89ac07",
        "colab": {
          "base_uri": "https://localhost:8080/",
          "height": 33
        }
      },
      "source": [
        "scores = model.evaluate(xTest, yTest, verbose=0)\n",
        "print('Test accuracy:', scores[1])"
      ],
      "execution_count": 9,
      "outputs": [
        {
          "output_type": "stream",
          "text": [
            "Test accuracy: 0.885\n"
          ],
          "name": "stdout"
        }
      ]
    },
    {
      "cell_type": "code",
      "metadata": {
        "id": "8-79X5jEskxi",
        "colab_type": "code",
        "outputId": "f383bc9d-11d4-40f7-e2d2-3b960c186af8",
        "colab": {
          "base_uri": "https://localhost:8080/",
          "height": 572
        }
      },
      "source": [
        "import matplotlib.pyplot as plt\n",
        "# Plot training & validation accuracy values\n",
        "plt.plot(hist.history['acc'])\n",
        "plt.plot(hist.history['val_acc'])\n",
        "plt.title('Model accuracy')\n",
        "plt.ylabel('Accuracy')\n",
        "plt.xlabel('Epoch')\n",
        "plt.legend(['Train', 'Test'], loc='upper left')\n",
        "plt.show()\n",
        "\n",
        "# Plot training & validation loss values\n",
        "plt.plot(hist.history['loss'])\n",
        "plt.plot(hist.history['val_loss'])\n",
        "plt.title('Model loss')\n",
        "plt.ylabel('Loss')\n",
        "plt.xlabel('Epoch')\n",
        "plt.legend(['Train', 'Test'], loc='upper left')\n",
        "plt.show() "
      ],
      "execution_count": 10,
      "outputs": [
        {
          "output_type": "display_data",
          "data": {
            "image/png": "[encoded data removed]",
            "text/plain": [
              "<Figure size 432x288 with 1 Axes>"
            ]
          },
          "metadata": {
            "tags": []
          }
        },
        {
          "output_type": "display_data",
          "data": {
            "image/png": "[encoded data removed]",
            "text/plain": [
              "<Figure size 432x288 with 1 Axes>"
            ]
          },
          "metadata": {
            "tags": []
          }
        }
      ]
    },
    {
      "cell_type": "code",
      "metadata": {
        "id": "yAxhafA6smP5",
        "colab_type": "code",
        "outputId": "5439c132-de29-4cbd-fba9-ee616ca03cbc",
        "colab": {
          "base_uri": "https://localhost:8080/",
          "height": 50
        }
      },
      "source": [
        "instance = [\"awesome i will definetly use it again\"]\n",
        "instance = tokenizer.texts_to_sequences(instance)\n",
        "\n",
        "instance = pad_sequences(instance, maxlen=max_words, padding=\"post\")\n",
        "print(model.predict_classes(instance))\n",
        "print(model.predict(instance))"
      ],
      "execution_count": 11,
      "outputs": [
        {
          "output_type": "stream",
          "text": [
            "[[1]]\n",
            "[[0.94387925]]\n"
          ],
          "name": "stdout"
        }
      ]
    },
    {
      "cell_type": "code",
      "metadata": {
        "id": "wLqaUFo2socK",
        "colab_type": "code",
        "outputId": "61a39699-fcf6-4d90-d0ff-9a8135bd8861",
        "colab": {
          "base_uri": "https://localhost:8080/",
          "height": 147
        }
      },
      "source": [
        "test_1 = \"This movie is great, I simply love it\"\n",
        "test_2 = \"Good movie!\"\n",
        "test_3 = \"if you like action, then this movie is good for you\"\n",
        "test_4 = \"Maybe I like this movie!\"\n",
        "test_5 = \"Not my taste, will skip and watch another movie\"\n",
        "test_6 = \"Bad Movie!\"\n",
        "test_7 = \"Not a good service \"\n",
        "test_8 = \"This movie really sucks! Can I get my money back please?\"\n",
        "\n",
        "test_samples = [test_1, test_2, test_3, test_4, test_5, test_6, test_7, test_8]\n",
        "\n",
        "test_samples_tokens = tokenizer.texts_to_sequences(test_samples)\n",
        "\n",
        "\n",
        "\n",
        "predicted_tokenized = pad_sequences(test_samples_tokens, maxlen=max_words, padding=\"post\")\n",
        "model.predict(predicted_tokenized)"
      ],
      "execution_count": 12,
      "outputs": [
        {
          "output_type": "execute_result",
          "data": {
            "text/plain": [
              "array([[0.94387436],\n",
              "       [0.94378555],\n",
              "       [0.9438335 ],\n",
              "       [0.9255823 ],\n",
              "       [0.03859577],\n",
              "       [0.03860176],\n",
              "       [0.9344934 ],\n",
              "       [0.0385924 ]], dtype=float32)"
            ]
          },
          "metadata": {
            "tags": []
          },
          "execution_count": 12
        }
      ]
    },
    {
      "cell_type": "code",
      "metadata": {
        "id": "34aH8A1csqCC",
        "colab_type": "code",
        "outputId": "6f62425f-014d-4069-f90f-598bd48fdb1b",
        "colab": {
          "base_uri": "https://localhost:8080/",
          "height": 163
        }
      },
      "source": [
        "test_1 = \"My favorite service out there. I am simply in love with this\"\n",
        "test_2 = \"Good service personel is friendly and . Good job\"\n",
        "test_3 = \"Better than a lot of its competitors, but a little bit under my expectations. Satisfying altogether\"\n",
        "test_4 = \"Maybe I like this service, I am still not sure.\"\n",
        "test_5 = \"Not the kind of service I would pay for, but definetly something to keep a close eye on\"\n",
        "test_6 = \"I am a little disappointed by this service\"\n",
        "test_7 = \"Not a good service at all, very bad\"\n",
        "test_8 = \"I would never buy a product from your company again. The amount of sad events I had is just too much.\"\n",
        "test_9 = \"I cannot believe I have ever considered this, please return my money\"\n",
        "\n",
        "test_samples = [test_1, test_2, test_3, test_4, test_5, test_6,test_7, test_8, test_9]\n",
        "test_samples = [preprocess_text(example) for example in test_samples]\n",
        "\n",
        "\n",
        "test_samples_tokens = tokenizer.texts_to_sequences(test_samples)\n",
        "\n",
        "\n",
        "predicted_tokenized = pad_sequences(test_samples_tokens, maxlen=max_words, padding='post')\n",
        "model.predict(predicted_tokenized)"
      ],
      "execution_count": 13,
      "outputs": [
        {
          "output_type": "execute_result",
          "data": {
            "text/plain": [
              "array([[0.943846  ],\n",
              "       [0.9437319 ],\n",
              "       [0.94352776],\n",
              "       [0.94360596],\n",
              "       [0.03866014],\n",
              "       [0.03860179],\n",
              "       [0.03859627],\n",
              "       [0.04012129],\n",
              "       [0.03860481]], dtype=float32)"
            ]
          },
          "metadata": {
            "tags": []
          },
          "execution_count": 13
        }
      ]
    },
    {
      "cell_type": "code",
      "metadata": {
        "id": "U1iThIXDrTZE",
        "colab_type": "code",
        "colab": {}
      },
      "source": [
        "# create on Colab directory\n",
        "model.save('BiLSTM_RMSprop.h5')    \n",
        "model_file = drive.CreateFile({'title' : 'BiLSTM_RMSprop.h5'})\n",
        "model_file.SetContentFile('BiLSTM_RMSprop.h5')\n",
        "model_file.Upload()\n",
        "\n",
        "# download to google drive\n",
        "drive.CreateFile({'id': model_file.get('id')})"
      ],
      "execution_count": 0,
      "outputs": []
    }
  ]
}