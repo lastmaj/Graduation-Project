{
  "nbformat": 4,
  "nbformat_minor": 0,
  "metadata": {
    "colab": {
      "name": "1.6mil NN.ipynb",
      "provenance": [],
      "collapsed_sections": []
    },
    "kernelspec": {
      "name": "python3",
      "display_name": "Python 3"
    }
  },
  "cells": [
    {
      "cell_type": "code",
      "metadata": {
        "id": "FklTKMhgEeoc",
        "colab_type": "code",
        "colab": {}
      },
      "source": [
        "!pip install -U -q PyDrive\n",
        "from pydrive.auth import GoogleAuth\n",
        "from pydrive.drive import GoogleDrive\n",
        "from google.colab import auth\n",
        "from oauth2client.client import GoogleCredentials\n",
        "# Authenticate and create the PyDrive client.\n",
        "auth.authenticate_user()\n",
        "gauth = GoogleAuth()\n",
        "gauth.credentials = GoogleCredentials.get_application_default()\n",
        "drive = GoogleDrive(gauth)"
      ],
      "execution_count": 0,
      "outputs": []
    },
    {
      "cell_type": "code",
      "metadata": {
        "id": "kC5cjTEyKfem",
        "colab_type": "code",
        "outputId": "8fa28ab4-0586-4c67-f457-6b37d486b8ad",
        "colab": {
          "base_uri": "https://localhost:8080/",
          "height": 33
        }
      },
      "source": [
        "link='https://drive.google.com/open?id=1NOrtLjmCvURr5DpWjGSSNJRJTa__x8o_'\n",
        "fluff, id = link.split('=')\n",
        "print (id) # Verify that you have everything after '='\n",
        "downloaded = drive.CreateFile({'id':id})\n",
        "downloaded.GetContentFile('stemmed.csv')"
      ],
      "execution_count": 2,
      "outputs": [
        {
          "output_type": "stream",
          "text": [
            "1NOrtLjmCvURr5DpWjGSSNJRJTa__x8o_\n"
          ],
          "name": "stdout"
        }
      ]
    },
    {
      "cell_type": "code",
      "metadata": {
        "id": "B9igtKaEKy42",
        "colab_type": "code",
        "colab": {}
      },
      "source": [
        "import pandas as pd\n",
        "import numpy as np"
      ],
      "execution_count": 0,
      "outputs": []
    },
    {
      "cell_type": "code",
      "metadata": {
        "id": "UR6dTR5bK7ol",
        "colab_type": "code",
        "outputId": "dd3aafa7-f9f2-428b-e529-a3eee49d8bf7",
        "colab": {
          "base_uri": "https://localhost:8080/",
          "height": 191
        }
      },
      "source": [
        "df = pd.read_csv(\"stemmed.csv\", engine=\"python\", index_col=0)\n",
        "df.head()"
      ],
      "execution_count": 4,
      "outputs": [
        {
          "output_type": "execute_result",
          "data": {
            "text/html": [
              "<div>\n",
              "<style scoped>\n",
              "    .dataframe tbody tr th:only-of-type {\n",
              "        vertical-align: middle;\n",
              "    }\n",
              "\n",
              "    .dataframe tbody tr th {\n",
              "        vertical-align: top;\n",
              "    }\n",
              "\n",
              "    .dataframe thead th {\n",
              "        text-align: right;\n",
              "    }\n",
              "</style>\n",
              "<table border=\"1\" class=\"dataframe\">\n",
              "  <thead>\n",
              "    <tr style=\"text-align: right;\">\n",
              "      <th></th>\n",
              "      <th>text</th>\n",
              "      <th>sentiment</th>\n",
              "    </tr>\n",
              "  </thead>\n",
              "  <tbody>\n",
              "    <tr>\n",
              "      <th>0</th>\n",
              "      <td>awww that bummer shoulda got david carr third day</td>\n",
              "      <td>0</td>\n",
              "    </tr>\n",
              "    <tr>\n",
              "      <th>1</th>\n",
              "      <td>upset cant updat facebook text might cri resul...</td>\n",
              "      <td>0</td>\n",
              "    </tr>\n",
              "    <tr>\n",
              "      <th>2</th>\n",
              "      <td>dive mani time ball manag save rest go bound</td>\n",
              "      <td>0</td>\n",
              "    </tr>\n",
              "    <tr>\n",
              "      <th>3</th>\n",
              "      <td>whole bodi feel itchi like fire</td>\n",
              "      <td>0</td>\n",
              "    </tr>\n",
              "    <tr>\n",
              "      <th>4</th>\n",
              "      <td>no not behav im mad cant see</td>\n",
              "      <td>0</td>\n",
              "    </tr>\n",
              "  </tbody>\n",
              "</table>\n",
              "</div>"
            ],
            "text/plain": [
              "                                                text  sentiment\n",
              "0  awww that bummer shoulda got david carr third day          0\n",
              "1  upset cant updat facebook text might cri resul...          0\n",
              "2       dive mani time ball manag save rest go bound          0\n",
              "3                    whole bodi feel itchi like fire          0\n",
              "4                       no not behav im mad cant see          0"
            ]
          },
          "metadata": {
            "tags": []
          },
          "execution_count": 4
        }
      ]
    },
    {
      "cell_type": "code",
      "metadata": {
        "id": "Tx1mKS2HDK-a",
        "colab_type": "code",
        "outputId": "4de97081-3252-46c7-d95d-cbc5065575ae",
        "colab": {
          "base_uri": "https://localhost:8080/",
          "height": 33
        }
      },
      "source": [
        "np.sum(df.isnull().any(axis=1))"
      ],
      "execution_count": 5,
      "outputs": [
        {
          "output_type": "execute_result",
          "data": {
            "text/plain": [
              "6609"
            ]
          },
          "metadata": {
            "tags": []
          },
          "execution_count": 5
        }
      ]
    },
    {
      "cell_type": "code",
      "metadata": {
        "id": "EAEcpTJtDsZs",
        "colab_type": "code",
        "outputId": "827f0331-7d0e-4bb4-e93e-be4f8264f896",
        "colab": {
          "base_uri": "https://localhost:8080/",
          "height": 163
        }
      },
      "source": [
        "df.dropna(inplace=True)\n",
        "df.reset_index(drop=True,inplace=True)\n",
        "df.info()"
      ],
      "execution_count": 6,
      "outputs": [
        {
          "output_type": "stream",
          "text": [
            "<class 'pandas.core.frame.DataFrame'>\n",
            "RangeIndex: 1593391 entries, 0 to 1593390\n",
            "Data columns (total 2 columns):\n",
            " #   Column     Non-Null Count    Dtype \n",
            "---  ------     --------------    ----- \n",
            " 0   text       1593391 non-null  object\n",
            " 1   sentiment  1593391 non-null  int64 \n",
            "dtypes: int64(1), object(1)\n",
            "memory usage: 24.3+ MB\n"
          ],
          "name": "stdout"
        }
      ]
    },
    {
      "cell_type": "markdown",
      "metadata": {
        "id": "ucSpiy6RiYgg",
        "colab_type": "text"
      },
      "source": [
        "# Global Configuration"
      ]
    },
    {
      "cell_type": "code",
      "metadata": {
        "id": "1eQMNeAuieJ_",
        "colab_type": "code",
        "colab": {}
      },
      "source": [
        "MAX_WORDS = 15\n",
        "EMBEDDING_SIZE = 32\n",
        "BATCH_SIZE = 1024\n",
        "EPOCHS = 15\n",
        "LSTM_CELLS = 32\n",
        "LSTM_DROPOUT = 0.1\n",
        "LSTM_RECURRENT_DROPOUT = 0\n",
        "DROPOUT_AFTER_EMBEDDING = 0.1\n",
        "VOCAB_SIZE = 200000\n"
      ],
      "execution_count": 0,
      "outputs": []
    },
    {
      "cell_type": "markdown",
      "metadata": {
        "id": "JwTX0eH-YrwM",
        "colab_type": "text"
      },
      "source": [
        "# Tokenization"
      ]
    },
    {
      "cell_type": "code",
      "metadata": {
        "id": "BLW2JIGraTiP",
        "colab_type": "code",
        "colab": {}
      },
      "source": [
        "x = df['text']\n",
        "y = [1 if x == 4 else 0 for x in df['sentiment']]"
      ],
      "execution_count": 0,
      "outputs": []
    },
    {
      "cell_type": "code",
      "metadata": {
        "id": "W5EUSHr5LX31",
        "colab_type": "code",
        "outputId": "01a0ad74-c705-47c8-c88b-f79fa14c7e6a",
        "colab": {
          "base_uri": "https://localhost:8080/",
          "height": 50
        }
      },
      "source": [
        "from keras.preprocessing import sequence \n",
        "from keras.preprocessing.text import Tokenizer\n",
        "from keras.preprocessing.sequence import pad_sequences\n",
        "\n",
        "tokenizer = Tokenizer(num_words=VOCAB_SIZE)\n",
        "tokenizer.fit_on_texts(x)\n",
        "x = pad_sequences(tokenizer.texts_to_sequences(x), maxlen=MAX_WORDS, padding=\"post\")\n",
        "\n",
        "vocab_size = len(tokenizer.word_index) + 1\n",
        "print('vocab size is : ', vocab_size)\n",
        "\n"
      ],
      "execution_count": 9,
      "outputs": [
        {
          "output_type": "stream",
          "text": [
            "Using TensorFlow backend.\n"
          ],
          "name": "stderr"
        },
        {
          "output_type": "stream",
          "text": [
            "vocab size is :  369217\n"
          ],
          "name": "stdout"
        }
      ]
    },
    {
      "cell_type": "code",
      "metadata": {
        "id": "aidXdyE1nKMW",
        "colab_type": "code",
        "outputId": "cc2a3c01-fc7a-4715-d46d-66a2d5858979",
        "colab": {
          "base_uri": "https://localhost:8080/",
          "height": 33
        }
      },
      "source": [
        "total_words = 0\n",
        "for rev in df['text']:\n",
        "  total_words += len(rev.split())\n",
        "\n",
        "print(\"words/review average : \", total_words/1600000)"
      ],
      "execution_count": 10,
      "outputs": [
        {
          "output_type": "stream",
          "text": [
            "words/review average :  7.2457475\n"
          ],
          "name": "stdout"
        }
      ]
    },
    {
      "cell_type": "markdown",
      "metadata": {
        "id": "pSUOTw-Ln0dz",
        "colab_type": "text"
      },
      "source": [
        "# Neural Network\n"
      ]
    },
    {
      "cell_type": "code",
      "metadata": {
        "id": "Tg-L4l1ondQ8",
        "colab_type": "code",
        "outputId": "f2660ac4-1464-4685-cdf5-72d08b79a8e8",
        "colab": {
          "base_uri": "https://localhost:8080/",
          "height": 293
        }
      },
      "source": [
        "# Build the model\n",
        "from keras import Sequential\n",
        "from keras.layers import Embedding, LSTM, Dense, Dropout, Bidirectional, GRU\n",
        "from keras import optimizers\n",
        "from keras import regularizers\n",
        "\n",
        "model=Sequential()\n",
        "model.add(Embedding(vocab_size, EMBEDDING_SIZE, input_length=MAX_WORDS))\n",
        "if DROPOUT_AFTER_EMBEDDING!=0:\n",
        "  model.add(Dropout(DROPOUT_AFTER_EMBEDDING))\n",
        "model.add(LSTM(LSTM_CELLS,dropout=LSTM_DROPOUT, recurrent_dropout=LSTM_RECURRENT_DROPOUT))\n",
        "model.add(Dense(1, activation='sigmoid'))\n",
        "\n",
        "model.compile(optimizer= 'adam', loss='binary_crossentropy', metrics=['acc'])\n",
        "print(model.summary())"
      ],
      "execution_count": 11,
      "outputs": [
        {
          "output_type": "stream",
          "text": [
            "Model: \"sequential_1\"\n",
            "_________________________________________________________________\n",
            "Layer (type)                 Output Shape              Param #   \n",
            "=================================================================\n",
            "embedding_1 (Embedding)      (None, 15, 32)            11814944  \n",
            "_________________________________________________________________\n",
            "dropout_1 (Dropout)          (None, 15, 32)            0         \n",
            "_________________________________________________________________\n",
            "lstm_1 (LSTM)                (None, 32)                8320      \n",
            "_________________________________________________________________\n",
            "dense_1 (Dense)              (None, 1)                 33        \n",
            "=================================================================\n",
            "Total params: 11,823,297\n",
            "Trainable params: 11,823,297\n",
            "Non-trainable params: 0\n",
            "_________________________________________________________________\n",
            "None\n"
          ],
          "name": "stdout"
        }
      ]
    },
    {
      "cell_type": "code",
      "metadata": {
        "id": "jCx2cg8vn_l6",
        "colab_type": "code",
        "colab": {}
      },
      "source": [
        "from sklearn.model_selection import train_test_split\n",
        "from keras.callbacks import EarlyStopping\n",
        "xTrain, xTest, yTrain, yTest = train_test_split(x, y, test_size = 0.01, random_state = 0)"
      ],
      "execution_count": 0,
      "outputs": []
    },
    {
      "cell_type": "code",
      "metadata": {
        "id": "Gt583Zk8oLga",
        "colab_type": "code",
        "outputId": "d9dd2004-7c21-4254-80e9-7f2f879c9154",
        "colab": {
          "base_uri": "https://localhost:8080/",
          "height": 573
        }
      },
      "source": [
        "hist = model.fit(xTrain, yTrain, batch_size=BATCH_SIZE, epochs=EPOCHS, verbose=1, shuffle=True, validation_split=0.01)"
      ],
      "execution_count": 13,
      "outputs": [
        {
          "output_type": "stream",
          "text": [
            "/usr/local/lib/python3.6/dist-packages/tensorflow/python/framework/indexed_slices.py:434: UserWarning: Converting sparse IndexedSlices to a dense Tensor of unknown shape. This may consume a large amount of memory.\n",
            "  \"Converting sparse IndexedSlices to a dense Tensor of unknown shape. \"\n"
          ],
          "name": "stderr"
        },
        {
          "output_type": "stream",
          "text": [
            "Train on 1561682 samples, validate on 15775 samples\n",
            "Epoch 1/15\n",
            "1561682/1561682 [==============================] - 328s 210us/step - loss: 0.4606 - acc: 0.7810 - val_loss: 0.4320 - val_acc: 0.7975\n",
            "Epoch 2/15\n",
            "1561682/1561682 [==============================] - 329s 211us/step - loss: 0.4103 - acc: 0.8126 - val_loss: 0.4301 - val_acc: 0.8049\n",
            "Epoch 3/15\n",
            "1561682/1561682 [==============================] - 330s 211us/step - loss: 0.3874 - acc: 0.8253 - val_loss: 0.4292 - val_acc: 0.8064\n",
            "Epoch 4/15\n",
            "1561682/1561682 [==============================] - 328s 210us/step - loss: 0.3689 - acc: 0.8350 - val_loss: 0.4395 - val_acc: 0.8056\n",
            "Epoch 5/15\n",
            "1561682/1561682 [==============================] - 329s 211us/step - loss: 0.3531 - acc: 0.8425 - val_loss: 0.4526 - val_acc: 0.8038\n",
            "Epoch 6/15\n",
            "1561682/1561682 [==============================] - 329s 211us/step - loss: 0.3397 - acc: 0.8490 - val_loss: 0.4782 - val_acc: 0.8017\n",
            "Epoch 7/15\n",
            "1561682/1561682 [==============================] - 329s 211us/step - loss: 0.3286 - acc: 0.8544 - val_loss: 0.4865 - val_acc: 0.8006\n",
            "Epoch 8/15\n",
            "1561682/1561682 [==============================] - 334s 214us/step - loss: 0.3190 - acc: 0.8583 - val_loss: 0.5066 - val_acc: 0.7975\n",
            "Epoch 9/15\n",
            "1561682/1561682 [==============================] - 330s 212us/step - loss: 0.3112 - acc: 0.8616 - val_loss: 0.5181 - val_acc: 0.7957\n",
            "Epoch 10/15\n",
            "1561682/1561682 [==============================] - 335s 214us/step - loss: 0.3042 - acc: 0.8648 - val_loss: 0.5467 - val_acc: 0.7946\n",
            "Epoch 11/15\n",
            "1561682/1561682 [==============================] - 331s 212us/step - loss: 0.2989 - acc: 0.8672 - val_loss: 0.5494 - val_acc: 0.7951\n",
            "Epoch 12/15\n",
            "1561682/1561682 [==============================] - 329s 211us/step - loss: 0.2935 - acc: 0.8695 - val_loss: 0.5781 - val_acc: 0.7968\n",
            "Epoch 13/15\n",
            "1561682/1561682 [==============================] - 326s 209us/step - loss: 0.2894 - acc: 0.8716 - val_loss: 0.5821 - val_acc: 0.7945\n",
            "Epoch 14/15\n",
            "1561682/1561682 [==============================] - 323s 207us/step - loss: 0.2856 - acc: 0.8734 - val_loss: 0.5956 - val_acc: 0.7950\n",
            "Epoch 15/15\n",
            "1561682/1561682 [==============================] - 323s 207us/step - loss: 0.2822 - acc: 0.8750 - val_loss: 0.5941 - val_acc: 0.7939\n"
          ],
          "name": "stdout"
        }
      ]
    },
    {
      "cell_type": "markdown",
      "metadata": {
        "id": "EbHRygqcvzT2",
        "colab_type": "text"
      },
      "source": [
        "# Analyzing the results\n"
      ]
    },
    {
      "cell_type": "markdown",
      "metadata": {
        "id": "sLrfxbAE6Hw3",
        "colab_type": "text"
      },
      "source": [
        "## Test prediction\n"
      ]
    },
    {
      "cell_type": "code",
      "metadata": {
        "id": "3vcmC1aE6Nw0",
        "colab_type": "code",
        "colab": {
          "base_uri": "https://localhost:8080/",
          "height": 50
        },
        "outputId": "2a70afcd-9454-41ad-f73f-7e9d6f973d4f"
      },
      "source": [
        "results = model.evaluate(xTest, yTest, batch_size=1024)\n",
        "print('test loss, test acc:', results)"
      ],
      "execution_count": 14,
      "outputs": [
        {
          "output_type": "stream",
          "text": [
            "15934/15934 [==============================] - 0s 21us/step\n",
            "test loss, test acc: [0.5588572617081098, 0.8051964640617371]\n"
          ],
          "name": "stdout"
        }
      ]
    },
    {
      "cell_type": "markdown",
      "metadata": {
        "id": "cQtl_1A-v8VN",
        "colab_type": "text"
      },
      "source": [
        "## Epoch plot\n"
      ]
    },
    {
      "cell_type": "code",
      "metadata": {
        "id": "pasKq76cu0pI",
        "colab_type": "code",
        "colab": {
          "base_uri": "https://localhost:8080/",
          "height": 572
        },
        "outputId": "4c7f6ee3-fc31-44f3-a331-56377df99a7d"
      },
      "source": [
        "import matplotlib.pyplot as plt\n",
        "# Plot training & validation accuracy values\n",
        "plt.plot(hist.history['acc'])\n",
        "plt.plot(hist.history['val_acc'])\n",
        "plt.title('Model accuracy')\n",
        "plt.ylabel('Accuracy')\n",
        "plt.xlabel('Epoch')\n",
        "plt.legend(['Train', 'Test'], loc='upper left')\n",
        "plt.show()\n",
        "\n",
        "# Plot training & validation loss values\n",
        "plt.plot(hist.history['loss'])\n",
        "plt.plot(hist.history['val_loss'])\n",
        "plt.title('Model loss')\n",
        "plt.ylabel('Loss')\n",
        "plt.xlabel('Epoch')\n",
        "plt.legend(['Train', 'Test'], loc='upper left')\n",
        "plt.show() \n"
      ],
      "execution_count": 15,
      "outputs": [
        {
          "output_type": "display_data",
          "data": {
            "image/png": "[encoded data removed]",
            "text/plain": [
              "<Figure size 432x288 with 1 Axes>"
            ]
          },
          "metadata": {
            "tags": [],
            "needs_background": "light"
          }
        },
        {
          "output_type": "display_data",
          "data": {
            "image/png": "[encoded data removed]",
            "text/plain": [
              "<Figure size 432x288 with 1 Axes>"
            ]
          },
          "metadata": {
            "tags": [],
            "needs_background": "light"
          }
        }
      ]
    },
    {
      "cell_type": "markdown",
      "metadata": {
        "id": "xhKY6YqFwAd1",
        "colab_type": "text"
      },
      "source": [
        "## Actual predictions\n",
        "\n",
        "\n"
      ]
    },
    {
      "cell_type": "code",
      "metadata": {
        "id": "k0w_1VBHZ7_o",
        "colab_type": "code",
        "colab": {
          "base_uri": "https://localhost:8080/",
          "height": 50
        },
        "outputId": "acf9e7ff-8c15-41ae-f49f-2dcc2c75b104"
      },
      "source": [
        "import nltk\n",
        "from nltk.stem.snowball import SnowballStemmer\n",
        "from nltk.corpus import stopwords\n",
        "\n",
        "nltk.download('stopwords')\n",
        "stop_words = set(stopwords.words('english'))- set(['no', 'not', 'nor'])\n",
        "stemmer =  SnowballStemmer(\"english\")"
      ],
      "execution_count": 16,
      "outputs": [
        {
          "output_type": "stream",
          "text": [
            "[nltk_data] Downloading package stopwords to /root/nltk_data...\n",
            "[nltk_data]   Unzipping corpora/stopwords.zip.\n"
          ],
          "name": "stdout"
        }
      ]
    },
    {
      "cell_type": "code",
      "metadata": {
        "id": "M9_g0cVtaWfF",
        "colab_type": "code",
        "colab": {}
      },
      "source": [
        "def advanced_cleaning(text):\n",
        "  text = text.split()\n",
        "  # Remove stopwords\n",
        "  text = [word for word in text if not word in stop_words]\n",
        "  # Stem\n",
        "  text = [stemmer.stem(word) for word in text]\n",
        "  return ' '.join(text)"
      ],
      "execution_count": 0,
      "outputs": []
    },
    {
      "cell_type": "code",
      "metadata": {
        "id": "1wOH1lIpwLw0",
        "colab_type": "code",
        "colab": {
          "base_uri": "https://localhost:8080/",
          "height": 342
        },
        "outputId": "f3e16fb7-de87-4baf-d1d0-6ffe976093cb"
      },
      "source": [
        "test_1 = \"my favorite service out there i am simply in love with this\"\n",
        "test_2 = \"good service personel is friendly and good job\"\n",
        "test_3 = \"better than a lot of its competitors but a little bit under my expectations satisfying altogether\"\n",
        "test_4 = \"maybe I like this service I am still not sure\"\n",
        "test_5 = \"not the kind of service I would pay for but definetly something to keep a close eye on\"\n",
        "test_6 = \"i am a little disappointed by this service\"\n",
        "test_7 = \"not a good service very bad team abysmal experience what do u have exactly\"\n",
        "test_8 = \"so bad absolutely one of the worst\"\n",
        "test_9 = \"why all these bad predictions i can't understand\"\n",
        "test_10 = \"i'm so sad from this confinment, god i hope it ends soon\"\n",
        "\n",
        "test_samples = [test_1,test_2,test_3,test_4,test_5,test_6,test_7,test_8,test_9, test_10]\n",
        "test_samples = [advanced_cleaning(text) for text in test_samples]\n",
        "test_samples_tokens = tokenizer.texts_to_sequences(test_samples)\n",
        "\n",
        "predicted_tokenized = pad_sequences(test_samples_tokens, maxlen=MAX_WORDS, padding='post')\n",
        "print(model.predict(predicted_tokenized))\n",
        "\n",
        "print(model.predict_classes(predicted_tokenized))"
      ],
      "execution_count": 18,
      "outputs": [
        {
          "output_type": "stream",
          "text": [
            "[[9.9401689e-01]\n",
            " [9.9680626e-01]\n",
            " [9.9943721e-01]\n",
            " [6.0759246e-02]\n",
            " [6.3150281e-01]\n",
            " [6.5049917e-02]\n",
            " [3.5852194e-04]\n",
            " [2.9797018e-02]\n",
            " [9.6091669e-04]\n",
            " [1.9345326e-02]]\n",
            "[[1]\n",
            " [1]\n",
            " [1]\n",
            " [0]\n",
            " [1]\n",
            " [0]\n",
            " [0]\n",
            " [0]\n",
            " [0]\n",
            " [0]]\n"
          ],
          "name": "stdout"
        }
      ]
    }
  ]
}