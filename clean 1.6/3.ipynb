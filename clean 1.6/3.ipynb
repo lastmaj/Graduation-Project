{
  "nbformat": 4,
  "nbformat_minor": 0,
  "metadata": {
    "colab": {
      "name": "1.6mil NN.ipynb",
      "provenance": [],
      "collapsed_sections": []
    },
    "kernelspec": {
      "name": "python3",
      "display_name": "Python 3"
    }
  },
  "cells": [
    {
      "cell_type": "code",
      "metadata": {
        "id": "FklTKMhgEeoc",
        "colab_type": "code",
        "colab": {}
      },
      "source": [
        "!pip install -U -q PyDrive\n",
        "from pydrive.auth import GoogleAuth\n",
        "from pydrive.drive import GoogleDrive\n",
        "from google.colab import auth\n",
        "from oauth2client.client import GoogleCredentials\n",
        "# Authenticate and create the PyDrive client.\n",
        "auth.authenticate_user()\n",
        "gauth = GoogleAuth()\n",
        "gauth.credentials = GoogleCredentials.get_application_default()\n",
        "drive = GoogleDrive(gauth)"
      ],
      "execution_count": 0,
      "outputs": []
    },
    {
      "cell_type": "code",
      "metadata": {
        "id": "kC5cjTEyKfem",
        "colab_type": "code",
        "outputId": "102d35eb-7880-4328-fd1f-01d1386c54fd",
        "colab": {
          "base_uri": "https://localhost:8080/",
          "height": 33
        }
      },
      "source": [
        "link='https://drive.google.com/open?id=1NOrtLjmCvURr5DpWjGSSNJRJTa__x8o_'\n",
        "fluff, id = link.split('=')\n",
        "print (id) # Verify that you have everything after '='\n",
        "downloaded = drive.CreateFile({'id':id})\n",
        "downloaded.GetContentFile('stemmed.csv')"
      ],
      "execution_count": 0,
      "outputs": [
        {
          "output_type": "stream",
          "text": [
            "1NOrtLjmCvURr5DpWjGSSNJRJTa__x8o_\n"
          ],
          "name": "stdout"
        }
      ]
    },
    {
      "cell_type": "code",
      "metadata": {
        "id": "B9igtKaEKy42",
        "colab_type": "code",
        "colab": {}
      },
      "source": [
        "import pandas as pd\n",
        "import numpy as np"
      ],
      "execution_count": 0,
      "outputs": []
    },
    {
      "cell_type": "code",
      "metadata": {
        "id": "UR6dTR5bK7ol",
        "colab_type": "code",
        "outputId": "64ceb5a2-2afb-4a2f-ac52-e81d7b918106",
        "colab": {
          "base_uri": "https://localhost:8080/",
          "height": 191
        }
      },
      "source": [
        "df = pd.read_csv(\"stemmed.csv\", engine=\"python\", index_col=0)\n",
        "df.head()"
      ],
      "execution_count": 0,
      "outputs": [
        {
          "output_type": "execute_result",
          "data": {
            "text/html": [
              "<div>\n",
              "<style scoped>\n",
              "    .dataframe tbody tr th:only-of-type {\n",
              "        vertical-align: middle;\n",
              "    }\n",
              "\n",
              "    .dataframe tbody tr th {\n",
              "        vertical-align: top;\n",
              "    }\n",
              "\n",
              "    .dataframe thead th {\n",
              "        text-align: right;\n",
              "    }\n",
              "</style>\n",
              "<table border=\"1\" class=\"dataframe\">\n",
              "  <thead>\n",
              "    <tr style=\"text-align: right;\">\n",
              "      <th></th>\n",
              "      <th>text</th>\n",
              "      <th>sentiment</th>\n",
              "    </tr>\n",
              "  </thead>\n",
              "  <tbody>\n",
              "    <tr>\n",
              "      <th>0</th>\n",
              "      <td>awww that bummer shoulda got david carr third day</td>\n",
              "      <td>0</td>\n",
              "    </tr>\n",
              "    <tr>\n",
              "      <th>1</th>\n",
              "      <td>upset cant updat facebook text might cri resul...</td>\n",
              "      <td>0</td>\n",
              "    </tr>\n",
              "    <tr>\n",
              "      <th>2</th>\n",
              "      <td>dive mani time ball manag save rest go bound</td>\n",
              "      <td>0</td>\n",
              "    </tr>\n",
              "    <tr>\n",
              "      <th>3</th>\n",
              "      <td>whole bodi feel itchi like fire</td>\n",
              "      <td>0</td>\n",
              "    </tr>\n",
              "    <tr>\n",
              "      <th>4</th>\n",
              "      <td>no not behav im mad cant see</td>\n",
              "      <td>0</td>\n",
              "    </tr>\n",
              "  </tbody>\n",
              "</table>\n",
              "</div>"
            ],
            "text/plain": [
              "                                                text  sentiment\n",
              "0  awww that bummer shoulda got david carr third day          0\n",
              "1  upset cant updat facebook text might cri resul...          0\n",
              "2       dive mani time ball manag save rest go bound          0\n",
              "3                    whole bodi feel itchi like fire          0\n",
              "4                       no not behav im mad cant see          0"
            ]
          },
          "metadata": {
            "tags": []
          },
          "execution_count": 4
        }
      ]
    },
    {
      "cell_type": "code",
      "metadata": {
        "id": "Tx1mKS2HDK-a",
        "colab_type": "code",
        "outputId": "876d9546-5efc-41dd-bca4-6c15b14605b4",
        "colab": {
          "base_uri": "https://localhost:8080/",
          "height": 327
        }
      },
      "source": [
        "import seaborn as sns\n",
        "\n",
        "sns.countplot(x='sentiment', data=df)"
      ],
      "execution_count": 0,
      "outputs": [
        {
          "output_type": "stream",
          "text": [
            "/usr/local/lib/python3.6/dist-packages/statsmodels/tools/_testing.py:19: FutureWarning: pandas.util.testing is deprecated. Use the functions in the public API at pandas.testing instead.\n",
            "  import pandas.util.testing as tm\n"
          ],
          "name": "stderr"
        },
        {
          "output_type": "execute_result",
          "data": {
            "text/plain": [
              "<matplotlib.axes._subplots.AxesSubplot at 0x7f8f1f272400>"
            ]
          },
          "metadata": {
            "tags": []
          },
          "execution_count": 5
        },
        {
          "output_type": "display_data",
          "data": {
            "image/png": "[encoded data removed]",
            "text/plain": [
              "<Figure size 432x288 with 1 Axes>"
            ]
          },
          "metadata": {
            "tags": [],
            "needs_background": "light"
          }
        }
      ]
    },
    {
      "cell_type": "code",
      "metadata": {
        "id": "EAEcpTJtDsZs",
        "colab_type": "code",
        "outputId": "c1513a27-1259-4cec-ba28-8169169ea048",
        "colab": {
          "base_uri": "https://localhost:8080/",
          "height": 163
        }
      },
      "source": [
        "df.dropna(inplace=True)\n",
        "df.reset_index(drop=True,inplace=True)\n",
        "df.info()"
      ],
      "execution_count": 0,
      "outputs": [
        {
          "output_type": "stream",
          "text": [
            "<class 'pandas.core.frame.DataFrame'>\n",
            "RangeIndex: 1593391 entries, 0 to 1593390\n",
            "Data columns (total 2 columns):\n",
            " #   Column     Non-Null Count    Dtype \n",
            "---  ------     --------------    ----- \n",
            " 0   text       1593391 non-null  object\n",
            " 1   sentiment  1593391 non-null  int64 \n",
            "dtypes: int64(1), object(1)\n",
            "memory usage: 24.3+ MB\n"
          ],
          "name": "stdout"
        }
      ]
    },
    {
      "cell_type": "code",
      "metadata": {
        "id": "RLIz_PBbCfJV",
        "colab_type": "code",
        "colab": {}
      },
      "source": [
        "df_words = df\n",
        "df_words.head()\n",
        "df_words[\"count\"] = df_words.text.apply(lambda x: len(x.split(' ')))"
      ],
      "execution_count": 0,
      "outputs": []
    },
    {
      "cell_type": "code",
      "metadata": {
        "id": "303vfaGwEI7T",
        "colab_type": "code",
        "outputId": "b18fbbc6-b1fe-4a93-ce03-ba16008b9c4c",
        "colab": {
          "base_uri": "https://localhost:8080/",
          "height": 191
        }
      },
      "source": [
        "df_words.head()"
      ],
      "execution_count": 0,
      "outputs": [
        {
          "output_type": "execute_result",
          "data": {
            "text/html": [
              "<div>\n",
              "<style scoped>\n",
              "    .dataframe tbody tr th:only-of-type {\n",
              "        vertical-align: middle;\n",
              "    }\n",
              "\n",
              "    .dataframe tbody tr th {\n",
              "        vertical-align: top;\n",
              "    }\n",
              "\n",
              "    .dataframe thead th {\n",
              "        text-align: right;\n",
              "    }\n",
              "</style>\n",
              "<table border=\"1\" class=\"dataframe\">\n",
              "  <thead>\n",
              "    <tr style=\"text-align: right;\">\n",
              "      <th></th>\n",
              "      <th>text</th>\n",
              "      <th>sentiment</th>\n",
              "      <th>count</th>\n",
              "    </tr>\n",
              "  </thead>\n",
              "  <tbody>\n",
              "    <tr>\n",
              "      <th>0</th>\n",
              "      <td>awww that bummer shoulda got david carr third day</td>\n",
              "      <td>0</td>\n",
              "      <td>9</td>\n",
              "    </tr>\n",
              "    <tr>\n",
              "      <th>1</th>\n",
              "      <td>upset cant updat facebook text might cri resul...</td>\n",
              "      <td>0</td>\n",
              "      <td>12</td>\n",
              "    </tr>\n",
              "    <tr>\n",
              "      <th>2</th>\n",
              "      <td>dive mani time ball manag save rest go bound</td>\n",
              "      <td>0</td>\n",
              "      <td>9</td>\n",
              "    </tr>\n",
              "    <tr>\n",
              "      <th>3</th>\n",
              "      <td>whole bodi feel itchi like fire</td>\n",
              "      <td>0</td>\n",
              "      <td>6</td>\n",
              "    </tr>\n",
              "    <tr>\n",
              "      <th>4</th>\n",
              "      <td>no not behav im mad cant see</td>\n",
              "      <td>0</td>\n",
              "      <td>7</td>\n",
              "    </tr>\n",
              "  </tbody>\n",
              "</table>\n",
              "</div>"
            ],
            "text/plain": [
              "                                                text  sentiment  count\n",
              "0  awww that bummer shoulda got david carr third day          0      9\n",
              "1  upset cant updat facebook text might cri resul...          0     12\n",
              "2       dive mani time ball manag save rest go bound          0      9\n",
              "3                    whole bodi feel itchi like fire          0      6\n",
              "4                       no not behav im mad cant see          0      7"
            ]
          },
          "metadata": {
            "tags": []
          },
          "execution_count": 8
        }
      ]
    },
    {
      "cell_type": "code",
      "metadata": {
        "id": "mDGFOXqFE826",
        "colab_type": "code",
        "outputId": "41d85b17-af30-40d4-83ef-01676d935b87",
        "colab": {
          "base_uri": "https://localhost:8080/",
          "height": 295
        }
      },
      "source": [
        "sns.countplot(x='count', data=df_words)"
      ],
      "execution_count": 0,
      "outputs": [
        {
          "output_type": "execute_result",
          "data": {
            "text/plain": [
              "<matplotlib.axes._subplots.AxesSubplot at 0x7f8f1f5c2be0>"
            ]
          },
          "metadata": {
            "tags": []
          },
          "execution_count": 9
        },
        {
          "output_type": "display_data",
          "data": {
            "image/png": "[encoded data removed]",
            "text/plain": [
              "<Figure size 432x288 with 1 Axes>"
            ]
          },
          "metadata": {
            "tags": [],
            "needs_background": "light"
          }
        }
      ]
    },
    {
      "cell_type": "markdown",
      "metadata": {
        "id": "ucSpiy6RiYgg",
        "colab_type": "text"
      },
      "source": [
        "# Global Configuration"
      ]
    },
    {
      "cell_type": "code",
      "metadata": {
        "id": "1eQMNeAuieJ_",
        "colab_type": "code",
        "colab": {}
      },
      "source": [
        "MAX_WORDS = 14\n",
        "EMBEDDING_SIZE = 32\n",
        "BATCH_SIZE = 5000\n",
        "EPOCHS = 10\n",
        "LSTM_CELLS = 128\n",
        "LSTM_DROPOUT = 0.3\n",
        "LSTM_RECURRENT_DROPOUT = 0\n",
        "DROPOUT_AFTER_EMBEDDING = 0\n",
        "VOCAB_SIZE = 50000\n"
      ],
      "execution_count": 0,
      "outputs": []
    },
    {
      "cell_type": "markdown",
      "metadata": {
        "id": "JwTX0eH-YrwM",
        "colab_type": "text"
      },
      "source": [
        "# Tokenization"
      ]
    },
    {
      "cell_type": "code",
      "metadata": {
        "id": "BLW2JIGraTiP",
        "colab_type": "code",
        "colab": {}
      },
      "source": [
        "x = df['text']\n",
        "y = [1 if x == 4 else 0 for x in df['sentiment']]"
      ],
      "execution_count": 0,
      "outputs": []
    },
    {
      "cell_type": "code",
      "metadata": {
        "id": "W5EUSHr5LX31",
        "colab_type": "code",
        "outputId": "4669b554-4b69-4d3f-da53-18e7af3a0eee",
        "colab": {
          "base_uri": "https://localhost:8080/",
          "height": 50
        }
      },
      "source": [
        "from keras.preprocessing import sequence \n",
        "from keras.preprocessing.text import Tokenizer\n",
        "from keras.preprocessing.sequence import pad_sequences\n",
        "\n",
        "tokenizer = Tokenizer(num_words=VOCAB_SIZE)\n",
        "tokenizer.fit_on_texts(x)\n",
        "x = pad_sequences(tokenizer.texts_to_sequences(x), maxlen=MAX_WORDS, padding=\"post\")\n",
        "\n",
        "vocab_size = len(tokenizer.word_index) + 1\n",
        "print('vocab size is : ', vocab_size)\n",
        "\n"
      ],
      "execution_count": 0,
      "outputs": [
        {
          "output_type": "stream",
          "text": [
            "Using TensorFlow backend.\n"
          ],
          "name": "stderr"
        },
        {
          "output_type": "stream",
          "text": [
            "vocab size is :  369217\n"
          ],
          "name": "stdout"
        }
      ]
    },
    {
      "cell_type": "code",
      "metadata": {
        "id": "aidXdyE1nKMW",
        "colab_type": "code",
        "outputId": "1ad121ad-e915-4cfc-81af-9fec6ad2258f",
        "colab": {
          "base_uri": "https://localhost:8080/",
          "height": 33
        }
      },
      "source": [
        "total_words = 0\n",
        "for rev in df['text']:\n",
        "  total_words += len(rev.split())\n",
        "\n",
        "print(\"words/review average : \", total_words/1600000)"
      ],
      "execution_count": 0,
      "outputs": [
        {
          "output_type": "stream",
          "text": [
            "words/review average :  7.2457475\n"
          ],
          "name": "stdout"
        }
      ]
    },
    {
      "cell_type": "markdown",
      "metadata": {
        "id": "pSUOTw-Ln0dz",
        "colab_type": "text"
      },
      "source": [
        "# Neural Network\n"
      ]
    },
    {
      "cell_type": "code",
      "metadata": {
        "id": "Tg-L4l1ondQ8",
        "colab_type": "code",
        "outputId": "3a32b4e8-d6d0-422d-9725-e116d5c93a5f",
        "colab": {
          "base_uri": "https://localhost:8080/",
          "height": 261
        }
      },
      "source": [
        "# Build the model\n",
        "from keras import Sequential\n",
        "from keras.layers import Embedding, LSTM, Dense, Dropout, Bidirectional, GRU\n",
        "from keras import optimizers\n",
        "from keras import regularizers\n",
        "\n",
        "model=Sequential()\n",
        "model.add(Embedding(vocab_size, EMBEDDING_SIZE, input_length=MAX_WORDS))\n",
        "if DROPOUT_AFTER_EMBEDDING!=0:\n",
        "  model.add(Dropout(DROPOUT_AFTER_EMBEDDING))\n",
        "model.add(LSTM(LSTM_CELLS,dropout=LSTM_DROPOUT, recurrent_dropout=LSTM_RECURRENT_DROPOUT))\n",
        "model.add(Dense(1, activation='sigmoid'))\n",
        "\n",
        "model.compile(optimizer= 'adam', loss='binary_crossentropy', metrics=['acc'])\n",
        "print(model.summary())"
      ],
      "execution_count": 0,
      "outputs": [
        {
          "output_type": "stream",
          "text": [
            "Model: \"sequential_1\"\n",
            "_________________________________________________________________\n",
            "Layer (type)                 Output Shape              Param #   \n",
            "=================================================================\n",
            "embedding_1 (Embedding)      (None, 14, 32)            11814944  \n",
            "_________________________________________________________________\n",
            "lstm_1 (LSTM)                (None, 128)               82432     \n",
            "_________________________________________________________________\n",
            "dense_1 (Dense)              (None, 1)                 129       \n",
            "=================================================================\n",
            "Total params: 11,897,505\n",
            "Trainable params: 11,897,505\n",
            "Non-trainable params: 0\n",
            "_________________________________________________________________\n",
            "None\n"
          ],
          "name": "stdout"
        }
      ]
    },
    {
      "cell_type": "code",
      "metadata": {
        "id": "jCx2cg8vn_l6",
        "colab_type": "code",
        "colab": {}
      },
      "source": [
        "from sklearn.model_selection import train_test_split\n",
        "from keras.callbacks import EarlyStopping\n",
        "xTrain, xTest, yTrain, yTest = train_test_split(x, y, test_size = 0.01, random_state = 0)"
      ],
      "execution_count": 0,
      "outputs": []
    },
    {
      "cell_type": "code",
      "metadata": {
        "id": "Gt583Zk8oLga",
        "colab_type": "code",
        "outputId": "97377c16-14af-4a35-bcf7-59cfa821fd25",
        "colab": {
          "base_uri": "https://localhost:8080/",
          "height": 411
        }
      },
      "source": [
        "hist = model.fit(xTrain, yTrain, batch_size=BATCH_SIZE, epochs=EPOCHS, verbose=1, shuffle=True, validation_split=0.01)"
      ],
      "execution_count": 0,
      "outputs": [
        {
          "output_type": "stream",
          "text": [
            "/usr/local/lib/python3.6/dist-packages/tensorflow/python/framework/indexed_slices.py:434: UserWarning: Converting sparse IndexedSlices to a dense Tensor of unknown shape. This may consume a large amount of memory.\n",
            "  \"Converting sparse IndexedSlices to a dense Tensor of unknown shape. \"\n"
          ],
          "name": "stderr"
        },
        {
          "output_type": "stream",
          "text": [
            "Train on 1561682 samples, validate on 15775 samples\n",
            "Epoch 1/10\n",
            "1561682/1561682 [==============================] - 455s 292us/step - loss: 0.4919 - acc: 0.7579 - val_loss: 0.4471 - val_acc: 0.7887\n",
            "Epoch 2/10\n",
            "1561682/1561682 [==============================] - 461s 295us/step - loss: 0.4392 - acc: 0.7962 - val_loss: 0.4426 - val_acc: 0.7923\n",
            "Epoch 3/10\n",
            "1561682/1561682 [==============================] - 459s 294us/step - loss: 0.4260 - acc: 0.8035 - val_loss: 0.4350 - val_acc: 0.8001\n",
            "Epoch 4/10\n",
            "1561682/1561682 [==============================] - 460s 295us/step - loss: 0.4156 - acc: 0.8094 - val_loss: 0.4301 - val_acc: 0.8035\n",
            "Epoch 5/10\n",
            "1561682/1561682 [==============================] - 457s 293us/step - loss: 0.4066 - acc: 0.8140 - val_loss: 0.4325 - val_acc: 0.8042\n",
            "Epoch 6/10\n",
            "1561682/1561682 [==============================] - 453s 290us/step - loss: 0.3995 - acc: 0.8175 - val_loss: 0.4338 - val_acc: 0.8047\n",
            "Epoch 7/10\n",
            "1561682/1561682 [==============================] - 452s 290us/step - loss: 0.3926 - acc: 0.8211 - val_loss: 0.4334 - val_acc: 0.8037\n",
            "Epoch 8/10\n",
            "1561682/1561682 [==============================] - 452s 290us/step - loss: 0.3864 - acc: 0.8243 - val_loss: 0.4372 - val_acc: 0.8071\n",
            "Epoch 9/10\n",
            "1561682/1561682 [==============================] - 452s 290us/step - loss: 0.3813 - acc: 0.8268 - val_loss: 0.4435 - val_acc: 0.8060\n",
            "Epoch 10/10\n",
            "1561682/1561682 [==============================] - 449s 287us/step - loss: 0.3761 - acc: 0.8296 - val_loss: 0.4499 - val_acc: 0.8013\n"
          ],
          "name": "stdout"
        }
      ]
    },
    {
      "cell_type": "markdown",
      "metadata": {
        "id": "EbHRygqcvzT2",
        "colab_type": "text"
      },
      "source": [
        "# Analyzing the results\n"
      ]
    },
    {
      "cell_type": "markdown",
      "metadata": {
        "id": "sLrfxbAE6Hw3",
        "colab_type": "text"
      },
      "source": [
        "## Test prediction\n"
      ]
    },
    {
      "cell_type": "code",
      "metadata": {
        "id": "3vcmC1aE6Nw0",
        "colab_type": "code",
        "outputId": "8d8492e4-572e-4286-909e-e39100cd3df0",
        "colab": {
          "base_uri": "https://localhost:8080/",
          "height": 50
        }
      },
      "source": [
        "results = model.evaluate(xTest, yTest, batch_size=1024)\n",
        "print('test loss, test acc:', results)"
      ],
      "execution_count": 0,
      "outputs": [
        {
          "output_type": "stream",
          "text": [
            "15934/15934 [==============================] - 1s 78us/step\n",
            "test loss, test acc: [0.43214974851744137, 0.8120371699333191]\n"
          ],
          "name": "stdout"
        }
      ]
    },
    {
      "cell_type": "markdown",
      "metadata": {
        "id": "cQtl_1A-v8VN",
        "colab_type": "text"
      },
      "source": [
        "## Epoch plot\n"
      ]
    },
    {
      "cell_type": "code",
      "metadata": {
        "id": "pasKq76cu0pI",
        "colab_type": "code",
        "outputId": "bb819da8-7919-4e68-c9a4-2c15204e6f91",
        "colab": {
          "base_uri": "https://localhost:8080/",
          "height": 572
        }
      },
      "source": [
        "import matplotlib.pyplot as plt\n",
        "# Plot training & validation accuracy values\n",
        "plt.plot(hist.history['acc'])\n",
        "plt.plot(hist.history['val_acc'])\n",
        "plt.title('Model accuracy')\n",
        "plt.ylabel('Accuracy')\n",
        "plt.xlabel('Epoch')\n",
        "plt.legend(['Train', 'Test'], loc='upper left')\n",
        "plt.show()\n",
        "\n",
        "# Plot training & validation loss values\n",
        "plt.plot(hist.history['loss'])\n",
        "plt.plot(hist.history['val_loss'])\n",
        "plt.title('Model loss')\n",
        "plt.ylabel('Loss')\n",
        "plt.xlabel('Epoch')\n",
        "plt.legend(['Train', 'Test'], loc='upper left')\n",
        "plt.show() \n"
      ],
      "execution_count": 0,
      "outputs": [
        {
          "output_type": "display_data",
          "data": {
            "image/png": "[encoded data removed]",
            "text/plain": [
              "<Figure size 432x288 with 1 Axes>"
            ]
          },
          "metadata": {
            "tags": [],
            "needs_background": "light"
          }
        },
        {
          "output_type": "display_data",
          "data": {
            "image/png": "[encoded data removed]",
            "text/plain": [
              "<Figure size 432x288 with 1 Axes>"
            ]
          },
          "metadata": {
            "tags": [],
            "needs_background": "light"
          }
        }
      ]
    },
    {
      "cell_type": "markdown",
      "metadata": {
        "id": "xhKY6YqFwAd1",
        "colab_type": "text"
      },
      "source": [
        "## Actual predictions\n",
        "\n",
        "\n"
      ]
    },
    {
      "cell_type": "code",
      "metadata": {
        "id": "k0w_1VBHZ7_o",
        "colab_type": "code",
        "outputId": "9e615671-18bd-4ed7-f0d2-374edd217d39",
        "colab": {
          "base_uri": "https://localhost:8080/",
          "height": 50
        }
      },
      "source": [
        "import nltk\n",
        "from nltk.stem.snowball import SnowballStemmer\n",
        "from nltk.corpus import stopwords\n",
        "\n",
        "nltk.download('stopwords')\n",
        "stop_words = set(stopwords.words('english'))- set(['no', 'not', 'nor'])\n",
        "stemmer =  SnowballStemmer(\"english\")"
      ],
      "execution_count": 0,
      "outputs": [
        {
          "output_type": "stream",
          "text": [
            "[nltk_data] Downloading package stopwords to /root/nltk_data...\n",
            "[nltk_data]   Unzipping corpora/stopwords.zip.\n"
          ],
          "name": "stdout"
        }
      ]
    },
    {
      "cell_type": "code",
      "metadata": {
        "id": "M9_g0cVtaWfF",
        "colab_type": "code",
        "colab": {}
      },
      "source": [
        "def advanced_cleaning(text):\n",
        "  text = text.split()\n",
        "  # Remove stopwords\n",
        "  text = [word for word in text if not word in stop_words]\n",
        "  # Stem\n",
        "  text = [stemmer.stem(word) for word in text]\n",
        "  return ' '.join(text)"
      ],
      "execution_count": 0,
      "outputs": []
    },
    {
      "cell_type": "code",
      "metadata": {
        "id": "1wOH1lIpwLw0",
        "colab_type": "code",
        "outputId": "2d0b71c3-2f16-4289-8357-400fcf9be575",
        "colab": {
          "base_uri": "https://localhost:8080/",
          "height": 342
        }
      },
      "source": [
        "test_1 = \"my favorite service out there i am simply in love with this\"\n",
        "test_2 = \"good service personel is friendly and good job\"\n",
        "test_3 = \"better than a lot of its competitors but a little bit under my expectations satisfying altogether\"\n",
        "test_4 = \"maybe I like this service I am still not sure\"\n",
        "test_5 = \"not the kind of service I would pay for but definetly something to keep a close eye on\"\n",
        "test_6 = \"i am a little disappointed by this service\"\n",
        "test_7 = \"not a good service very bad team abysmal experience what do u have exactly\"\n",
        "test_8 = \"so bad absolutely one of the worst\"\n",
        "test_9 = \"why all these bad predictions i can't understand\"\n",
        "test_10 = \"i'm so sad from this confinment, god i hope it ends soon\"\n",
        "\n",
        "test_samples = [test_1,test_2,test_3,test_4,test_5,test_6,test_7,test_8,test_9, test_10]\n",
        "test_samples = [advanced_cleaning(text) for text in test_samples]\n",
        "test_samples_tokens = tokenizer.texts_to_sequences(test_samples)\n",
        "\n",
        "predicted_tokenized = pad_sequences(test_samples_tokens, maxlen=MAX_WORDS, padding='post')\n",
        "print(model.predict(predicted_tokenized))\n",
        "\n",
        "print(model.predict_classes(predicted_tokenized))"
      ],
      "execution_count": 0,
      "outputs": [
        {
          "output_type": "stream",
          "text": [
            "[[0.98846805]\n",
            " [0.9780017 ]\n",
            " [0.9970459 ]\n",
            " [0.30772364]\n",
            " [0.2822285 ]\n",
            " [0.04498011]\n",
            " [0.01482147]\n",
            " [0.02558836]\n",
            " [0.04737676]\n",
            " [0.0294668 ]]\n",
            "[[1]\n",
            " [1]\n",
            " [1]\n",
            " [0]\n",
            " [0]\n",
            " [0]\n",
            " [0]\n",
            " [0]\n",
            " [0]\n",
            " [0]]\n"
          ],
          "name": "stdout"
        }
      ]
    }
  ]
}