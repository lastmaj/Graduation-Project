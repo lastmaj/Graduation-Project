{
  "nbformat": 4,
  "nbformat_minor": 0,
  "metadata": {
    "colab": {
      "name": "1.6mil NN.ipynb",
      "provenance": [],
      "collapsed_sections": []
    },
    "kernelspec": {
      "name": "python3",
      "display_name": "Python 3"
    }
  },
  "cells": [
    {
      "cell_type": "code",
      "metadata": {
        "id": "FklTKMhgEeoc",
        "colab_type": "code",
        "colab": {}
      },
      "source": [
        "!pip install -U -q PyDrive\n",
        "from pydrive.auth import GoogleAuth\n",
        "from pydrive.drive import GoogleDrive\n",
        "from google.colab import auth\n",
        "from oauth2client.client import GoogleCredentials\n",
        "# Authenticate and create the PyDrive client.\n",
        "auth.authenticate_user()\n",
        "gauth = GoogleAuth()\n",
        "gauth.credentials = GoogleCredentials.get_application_default()\n",
        "drive = GoogleDrive(gauth)"
      ],
      "execution_count": 0,
      "outputs": []
    },
    {
      "cell_type": "code",
      "metadata": {
        "id": "kC5cjTEyKfem",
        "colab_type": "code",
        "outputId": "d825d638-4f2c-42e8-88aa-c81d2f1fe0b4",
        "colab": {
          "base_uri": "https://localhost:8080/",
          "height": 33
        }
      },
      "source": [
        "link='https://drive.google.com/open?id=1NOrtLjmCvURr5DpWjGSSNJRJTa__x8o_'\n",
        "fluff, id = link.split('=')\n",
        "print (id) # Verify that you have everything after '='\n",
        "downloaded = drive.CreateFile({'id':id})\n",
        "downloaded.GetContentFile('stemmed.csv')"
      ],
      "execution_count": 0,
      "outputs": [
        {
          "output_type": "stream",
          "text": [
            "1NOrtLjmCvURr5DpWjGSSNJRJTa__x8o_\n"
          ],
          "name": "stdout"
        }
      ]
    },
    {
      "cell_type": "code",
      "metadata": {
        "id": "B9igtKaEKy42",
        "colab_type": "code",
        "colab": {}
      },
      "source": [
        "import pandas as pd\n",
        "import numpy as np"
      ],
      "execution_count": 0,
      "outputs": []
    },
    {
      "cell_type": "code",
      "metadata": {
        "id": "UR6dTR5bK7ol",
        "colab_type": "code",
        "outputId": "ed70fb5a-e497-4766-9a78-b22a5670fafd",
        "colab": {
          "base_uri": "https://localhost:8080/",
          "height": 191
        }
      },
      "source": [
        "df = pd.read_csv(\"stemmed.csv\", engine=\"python\", index_col=0)\n",
        "df.head()"
      ],
      "execution_count": 0,
      "outputs": [
        {
          "output_type": "execute_result",
          "data": {
            "text/html": [
              "<div>\n",
              "<style scoped>\n",
              "    .dataframe tbody tr th:only-of-type {\n",
              "        vertical-align: middle;\n",
              "    }\n",
              "\n",
              "    .dataframe tbody tr th {\n",
              "        vertical-align: top;\n",
              "    }\n",
              "\n",
              "    .dataframe thead th {\n",
              "        text-align: right;\n",
              "    }\n",
              "</style>\n",
              "<table border=\"1\" class=\"dataframe\">\n",
              "  <thead>\n",
              "    <tr style=\"text-align: right;\">\n",
              "      <th></th>\n",
              "      <th>text</th>\n",
              "      <th>sentiment</th>\n",
              "    </tr>\n",
              "  </thead>\n",
              "  <tbody>\n",
              "    <tr>\n",
              "      <th>0</th>\n",
              "      <td>awww that bummer shoulda got david carr third day</td>\n",
              "      <td>0</td>\n",
              "    </tr>\n",
              "    <tr>\n",
              "      <th>1</th>\n",
              "      <td>upset cant updat facebook text might cri resul...</td>\n",
              "      <td>0</td>\n",
              "    </tr>\n",
              "    <tr>\n",
              "      <th>2</th>\n",
              "      <td>dive mani time ball manag save rest go bound</td>\n",
              "      <td>0</td>\n",
              "    </tr>\n",
              "    <tr>\n",
              "      <th>3</th>\n",
              "      <td>whole bodi feel itchi like fire</td>\n",
              "      <td>0</td>\n",
              "    </tr>\n",
              "    <tr>\n",
              "      <th>4</th>\n",
              "      <td>no not behav im mad cant see</td>\n",
              "      <td>0</td>\n",
              "    </tr>\n",
              "  </tbody>\n",
              "</table>\n",
              "</div>"
            ],
            "text/plain": [
              "                                                text  sentiment\n",
              "0  awww that bummer shoulda got david carr third day          0\n",
              "1  upset cant updat facebook text might cri resul...          0\n",
              "2       dive mani time ball manag save rest go bound          0\n",
              "3                    whole bodi feel itchi like fire          0\n",
              "4                       no not behav im mad cant see          0"
            ]
          },
          "metadata": {
            "tags": []
          },
          "execution_count": 4
        }
      ]
    },
    {
      "cell_type": "code",
      "metadata": {
        "id": "Tx1mKS2HDK-a",
        "colab_type": "code",
        "outputId": "e823bc5c-f300-4100-eeb1-40666ab83b5a",
        "colab": {
          "base_uri": "https://localhost:8080/",
          "height": 33
        }
      },
      "source": [
        "np.sum(df.isnull().any(axis=1))"
      ],
      "execution_count": 0,
      "outputs": [
        {
          "output_type": "execute_result",
          "data": {
            "text/plain": [
              "6609"
            ]
          },
          "metadata": {
            "tags": []
          },
          "execution_count": 5
        }
      ]
    },
    {
      "cell_type": "code",
      "metadata": {
        "id": "EAEcpTJtDsZs",
        "colab_type": "code",
        "outputId": "b60ccad7-f953-4288-f9db-0767b6720133",
        "colab": {
          "base_uri": "https://localhost:8080/",
          "height": 163
        }
      },
      "source": [
        "df.dropna(inplace=True)\n",
        "df.reset_index(drop=True,inplace=True)\n",
        "df.info()"
      ],
      "execution_count": 0,
      "outputs": [
        {
          "output_type": "stream",
          "text": [
            "<class 'pandas.core.frame.DataFrame'>\n",
            "RangeIndex: 1593391 entries, 0 to 1593390\n",
            "Data columns (total 2 columns):\n",
            " #   Column     Non-Null Count    Dtype \n",
            "---  ------     --------------    ----- \n",
            " 0   text       1593391 non-null  object\n",
            " 1   sentiment  1593391 non-null  int64 \n",
            "dtypes: int64(1), object(1)\n",
            "memory usage: 24.3+ MB\n"
          ],
          "name": "stdout"
        }
      ]
    },
    {
      "cell_type": "markdown",
      "metadata": {
        "id": "ucSpiy6RiYgg",
        "colab_type": "text"
      },
      "source": [
        "# Global Configuration"
      ]
    },
    {
      "cell_type": "code",
      "metadata": {
        "id": "1eQMNeAuieJ_",
        "colab_type": "code",
        "colab": {}
      },
      "source": [
        "MAX_WORDS = 12\n",
        "EMBEDDING_SIZE = 32\n",
        "BATCH_SIZE = 5000\n",
        "EPOCHS = 10\n",
        "LSTM_CELLS = 64\n",
        "LSTM_DROPOUT = 0\n",
        "LSTM_RECURRENT_DROPOUT = 0\n",
        "DROPOUT_AFTER_EMBEDDING = 0\n",
        "VOCAB_SIZE = 25000\n"
      ],
      "execution_count": 0,
      "outputs": []
    },
    {
      "cell_type": "markdown",
      "metadata": {
        "id": "JwTX0eH-YrwM",
        "colab_type": "text"
      },
      "source": [
        "# Tokenization"
      ]
    },
    {
      "cell_type": "code",
      "metadata": {
        "id": "BLW2JIGraTiP",
        "colab_type": "code",
        "colab": {}
      },
      "source": [
        "x = df['text']\n",
        "y = [1 if x == 4 else 0 for x in df['sentiment']]"
      ],
      "execution_count": 0,
      "outputs": []
    },
    {
      "cell_type": "code",
      "metadata": {
        "id": "W5EUSHr5LX31",
        "colab_type": "code",
        "outputId": "94d3ff08-2b8a-48ca-cc0a-12ee6eecb06e",
        "colab": {
          "base_uri": "https://localhost:8080/",
          "height": 50
        }
      },
      "source": [
        "from keras.preprocessing import sequence \n",
        "from keras.preprocessing.text import Tokenizer\n",
        "from keras.preprocessing.sequence import pad_sequences\n",
        "\n",
        "tokenizer = Tokenizer(num_words=VOCAB_SIZE)\n",
        "tokenizer.fit_on_texts(x)\n",
        "x = pad_sequences(tokenizer.texts_to_sequences(x), maxlen=MAX_WORDS, padding=\"post\")\n",
        "\n",
        "vocab_size = len(tokenizer.word_index) + 1\n",
        "print('vocab size is : ', vocab_size)\n",
        "\n"
      ],
      "execution_count": 0,
      "outputs": [
        {
          "output_type": "stream",
          "text": [
            "Using TensorFlow backend.\n"
          ],
          "name": "stderr"
        },
        {
          "output_type": "stream",
          "text": [
            "vocab size is :  369217\n"
          ],
          "name": "stdout"
        }
      ]
    },
    {
      "cell_type": "code",
      "metadata": {
        "id": "aidXdyE1nKMW",
        "colab_type": "code",
        "outputId": "6fbd5c64-6ebb-48cb-e773-351767fe7aac",
        "colab": {
          "base_uri": "https://localhost:8080/",
          "height": 33
        }
      },
      "source": [
        "total_words = 0\n",
        "for rev in df['text']:\n",
        "  total_words += len(rev.split())\n",
        "\n",
        "print(\"words/review average : \", total_words/1600000)"
      ],
      "execution_count": 0,
      "outputs": [
        {
          "output_type": "stream",
          "text": [
            "words/review average :  7.2457475\n"
          ],
          "name": "stdout"
        }
      ]
    },
    {
      "cell_type": "markdown",
      "metadata": {
        "id": "pSUOTw-Ln0dz",
        "colab_type": "text"
      },
      "source": [
        "# Neural Network\n"
      ]
    },
    {
      "cell_type": "code",
      "metadata": {
        "id": "Tg-L4l1ondQ8",
        "colab_type": "code",
        "outputId": "ecf4828b-54bc-4888-d97f-daf1b9748579",
        "colab": {
          "base_uri": "https://localhost:8080/",
          "height": 261
        }
      },
      "source": [
        "# Build the model\n",
        "from keras import Sequential\n",
        "from keras.layers import Embedding, LSTM, Dense, Dropout, Bidirectional, GRU\n",
        "from keras import optimizers\n",
        "from keras import regularizers\n",
        "from keras.regularizers import l2\n",
        "\n",
        "model=Sequential()\n",
        "model.add(Embedding(vocab_size, EMBEDDING_SIZE, input_length=MAX_WORDS))\n",
        "if DROPOUT_AFTER_EMBEDDING!=0:\n",
        "  model.add(Dropout(DROPOUT_AFTER_EMBEDDING))\n",
        "model.add(LSTM(LSTM_CELLS, kernel_regularizer=l2(0.05), recurrent_regularizer=l2(0), bias_regularizer=l2(0), dropout=LSTM_DROPOUT, recurrent_dropout=LSTM_RECURRENT_DROPOUT))\n",
        "model.add(Dense(1, activation='sigmoid'))\n",
        "\n",
        "model.compile(optimizer= 'adam', loss='binary_crossentropy', metrics=['acc'])\n",
        "print(model.summary())"
      ],
      "execution_count": 0,
      "outputs": [
        {
          "output_type": "stream",
          "text": [
            "Model: \"sequential_1\"\n",
            "_________________________________________________________________\n",
            "Layer (type)                 Output Shape              Param #   \n",
            "=================================================================\n",
            "embedding_1 (Embedding)      (None, 12, 32)            11814944  \n",
            "_________________________________________________________________\n",
            "lstm_1 (LSTM)                (None, 64)                24832     \n",
            "_________________________________________________________________\n",
            "dense_1 (Dense)              (None, 1)                 65        \n",
            "=================================================================\n",
            "Total params: 11,839,841\n",
            "Trainable params: 11,839,841\n",
            "Non-trainable params: 0\n",
            "_________________________________________________________________\n",
            "None\n"
          ],
          "name": "stdout"
        }
      ]
    },
    {
      "cell_type": "code",
      "metadata": {
        "id": "jCx2cg8vn_l6",
        "colab_type": "code",
        "colab": {}
      },
      "source": [
        "from sklearn.model_selection import train_test_split\n",
        "from keras.callbacks import EarlyStopping\n",
        "xTrain, xTest, yTrain, yTest = train_test_split(x, y, test_size = 0.1, random_state = 0)"
      ],
      "execution_count": 0,
      "outputs": []
    },
    {
      "cell_type": "code",
      "metadata": {
        "id": "Gt583Zk8oLga",
        "colab_type": "code",
        "outputId": "2a4a599c-cd28-4c35-afa2-811da042f7f8",
        "colab": {
          "base_uri": "https://localhost:8080/",
          "height": 411
        }
      },
      "source": [
        "hist = model.fit(xTrain, yTrain, batch_size=BATCH_SIZE, epochs=EPOCHS, verbose=1, shuffle=True, validation_split=0.1)"
      ],
      "execution_count": 13,
      "outputs": [
        {
          "output_type": "stream",
          "text": [
            "/usr/local/lib/python3.6/dist-packages/tensorflow/python/framework/indexed_slices.py:434: UserWarning: Converting sparse IndexedSlices to a dense Tensor of unknown shape. This may consume a large amount of memory.\n",
            "  \"Converting sparse IndexedSlices to a dense Tensor of unknown shape. \"\n"
          ],
          "name": "stderr"
        },
        {
          "output_type": "stream",
          "text": [
            "Train on 1290645 samples, validate on 143406 samples\n",
            "Epoch 1/10\n",
            "1290645/1290645 [==============================] - 168s 130us/step - loss: 1.0085 - acc: 0.7329 - val_loss: 0.4887 - val_acc: 0.7726\n",
            "Epoch 2/10\n",
            "1290645/1290645 [==============================] - 169s 131us/step - loss: 0.4745 - acc: 0.7789 - val_loss: 0.4687 - val_acc: 0.7807\n",
            "Epoch 3/10\n",
            "1290645/1290645 [==============================] - 170s 132us/step - loss: 0.4588 - acc: 0.7859 - val_loss: 0.4644 - val_acc: 0.7827\n",
            "Epoch 4/10\n",
            "1290645/1290645 [==============================] - 170s 132us/step - loss: 0.4499 - acc: 0.7905 - val_loss: 0.4582 - val_acc: 0.7871\n",
            "Epoch 5/10\n",
            "1290645/1290645 [==============================] - 169s 131us/step - loss: 0.4440 - acc: 0.7935 - val_loss: 0.4551 - val_acc: 0.7892\n",
            "Epoch 6/10\n",
            "1290645/1290645 [==============================] - 169s 131us/step - loss: 0.4400 - acc: 0.7956 - val_loss: 0.4560 - val_acc: 0.7894\n",
            "Epoch 7/10\n",
            "1290645/1290645 [==============================] - 170s 131us/step - loss: 0.4367 - acc: 0.7971 - val_loss: 0.4547 - val_acc: 0.7900\n",
            "Epoch 8/10\n",
            "1290645/1290645 [==============================] - 169s 131us/step - loss: 0.4337 - acc: 0.7989 - val_loss: 0.4556 - val_acc: 0.7898\n",
            "Epoch 9/10\n",
            "1290645/1290645 [==============================] - 175s 135us/step - loss: 0.4309 - acc: 0.8006 - val_loss: 0.4540 - val_acc: 0.7910\n",
            "Epoch 10/10\n",
            "1290645/1290645 [==============================] - 169s 131us/step - loss: 0.4289 - acc: 0.8012 - val_loss: 0.4541 - val_acc: 0.7907\n"
          ],
          "name": "stdout"
        }
      ]
    },
    {
      "cell_type": "markdown",
      "metadata": {
        "id": "EbHRygqcvzT2",
        "colab_type": "text"
      },
      "source": [
        "# Analyzing the results\n"
      ]
    },
    {
      "cell_type": "markdown",
      "metadata": {
        "id": "sLrfxbAE6Hw3",
        "colab_type": "text"
      },
      "source": [
        "## Test prediction\n"
      ]
    },
    {
      "cell_type": "code",
      "metadata": {
        "id": "3vcmC1aE6Nw0",
        "colab_type": "code",
        "colab": {
          "base_uri": "https://localhost:8080/",
          "height": 50
        },
        "outputId": "fa836ac4-2bbc-4d3f-ed3f-57846dfbd118"
      },
      "source": [
        "results = model.evaluate(xTest, yTest, batch_size=1024)\n",
        "print('test loss, test acc:', results)"
      ],
      "execution_count": 14,
      "outputs": [
        {
          "output_type": "stream",
          "text": [
            "159340/159340 [==============================] - 5s 31us/step\n",
            "test loss, test acc: [0.45265482085792846, 0.7913016080856323]\n"
          ],
          "name": "stdout"
        }
      ]
    },
    {
      "cell_type": "markdown",
      "metadata": {
        "id": "cQtl_1A-v8VN",
        "colab_type": "text"
      },
      "source": [
        "## Epoch plot\n"
      ]
    },
    {
      "cell_type": "code",
      "metadata": {
        "id": "pasKq76cu0pI",
        "colab_type": "code",
        "colab": {
          "base_uri": "https://localhost:8080/",
          "height": 572
        },
        "outputId": "6d6db3af-aefa-404d-bafa-af0287f0c6b2"
      },
      "source": [
        "import matplotlib.pyplot as plt\n",
        "# Plot training & validation accuracy values\n",
        "plt.plot(hist.history['acc'])\n",
        "plt.plot(hist.history['val_acc'])\n",
        "plt.title('Model accuracy')\n",
        "plt.ylabel('Accuracy')\n",
        "plt.xlabel('Epoch')\n",
        "plt.legend(['Train', 'Test'], loc='upper left')\n",
        "plt.show()\n",
        "\n",
        "# Plot training & validation loss values\n",
        "plt.plot(hist.history['loss'])\n",
        "plt.plot(hist.history['val_loss'])\n",
        "plt.title('Model loss')\n",
        "plt.ylabel('Loss')\n",
        "plt.xlabel('Epoch')\n",
        "plt.legend(['Train', 'Test'], loc='upper left')\n",
        "plt.show() \n"
      ],
      "execution_count": 15,
      "outputs": [
        {
          "output_type": "display_data",
          "data": {
            "image/png": "[encoded data removed]",
            "text/plain": [
              "<Figure size 432x288 with 1 Axes>"
            ]
          },
          "metadata": {
            "tags": [],
            "needs_background": "light"
          }
        },
        {
          "output_type": "display_data",
          "data": {
            "image/png": "[encoded data removed]",
            "text/plain": [
              "<Figure size 432x288 with 1 Axes>"
            ]
          },
          "metadata": {
            "tags": [],
            "needs_background": "light"
          }
        }
      ]
    },
    {
      "cell_type": "markdown",
      "metadata": {
        "id": "xhKY6YqFwAd1",
        "colab_type": "text"
      },
      "source": [
        "## Actual predictions\n",
        "\n",
        "\n"
      ]
    },
    {
      "cell_type": "code",
      "metadata": {
        "id": "k0w_1VBHZ7_o",
        "colab_type": "code",
        "colab": {
          "base_uri": "https://localhost:8080/",
          "height": 50
        },
        "outputId": "ebc1651e-1cca-411d-a1f5-a20b57bceb48"
      },
      "source": [
        "import nltk\n",
        "from nltk.stem.snowball import SnowballStemmer\n",
        "from nltk.corpus import stopwords\n",
        "\n",
        "nltk.download('stopwords')\n",
        "stop_words = set(stopwords.words('english'))- set(['no', 'not', 'nor'])\n",
        "stemmer =  SnowballStemmer(\"english\")"
      ],
      "execution_count": 16,
      "outputs": [
        {
          "output_type": "stream",
          "text": [
            "[nltk_data] Downloading package stopwords to /root/nltk_data...\n",
            "[nltk_data]   Package stopwords is already up-to-date!\n"
          ],
          "name": "stdout"
        }
      ]
    },
    {
      "cell_type": "code",
      "metadata": {
        "id": "M9_g0cVtaWfF",
        "colab_type": "code",
        "colab": {}
      },
      "source": [
        "def advanced_cleaning(text):\n",
        "  text = text.split()\n",
        "  # Remove stopwords\n",
        "  text = [word for word in text if not word in stop_words]\n",
        "  # Stem\n",
        "  text = [stemmer.stem(word) for word in text]\n",
        "  return ' '.join(text)"
      ],
      "execution_count": 0,
      "outputs": []
    },
    {
      "cell_type": "code",
      "metadata": {
        "id": "1wOH1lIpwLw0",
        "colab_type": "code",
        "colab": {
          "base_uri": "https://localhost:8080/",
          "height": 310
        },
        "outputId": "1a48dd37-e2c3-4e22-c590-142755a453b5"
      },
      "source": [
        "test_1 = \"my favorite service out there i am simply in love with this\"\n",
        "test_2 = \"good service personel is friendly and good job\"\n",
        "test_3 = \"better than a lot of its competitors but a little bit under my expectations satisfying altogether\"\n",
        "test_4 = \"maybe I like this service I am still not sure\"\n",
        "test_5 = \"not the kind of service I would pay for but definetly something to keep a close eye on\"\n",
        "test_6 = \"i am a little disappointed by this service\"\n",
        "test_7 = \"not a good service very bad team abysmal experience what do u have exactly\"\n",
        "test_8 = \"so bad absolutely one of the worst\"\n",
        "test_9 = \"why all these bad predictions i can't understand\"\n",
        "\n",
        "test_samples = [test_1,test_2,test_3,test_4,test_5,test_6,test_7,test_8,test_9]\n",
        "test_samples = [advanced_cleaning(text) for text in test_samples]\n",
        "test_samples_tokens = tokenizer.texts_to_sequences(test_samples)\n",
        "\n",
        "predicted_tokenized = pad_sequences(test_samples_tokens, maxlen=MAX_WORDS, padding='post')\n",
        "print(model.predict(predicted_tokenized))\n",
        "\n",
        "print(model.predict_classes(predicted_tokenized))"
      ],
      "execution_count": 18,
      "outputs": [
        {
          "output_type": "stream",
          "text": [
            "[[0.9959126 ]\n",
            " [0.9906056 ]\n",
            " [0.923144  ]\n",
            " [0.40999377]\n",
            " [0.30729878]\n",
            " [0.03110629]\n",
            " [0.44889528]\n",
            " [0.0551129 ]\n",
            " [0.09508034]]\n",
            "[[1]\n",
            " [1]\n",
            " [1]\n",
            " [0]\n",
            " [0]\n",
            " [0]\n",
            " [0]\n",
            " [0]\n",
            " [0]]\n"
          ],
          "name": "stdout"
        }
      ]
    }
  ]
}