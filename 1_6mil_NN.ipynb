{
  "nbformat": 4,
  "nbformat_minor": 0,
  "metadata": {
    "colab": {
      "name": "1.6mil NN.ipynb",
      "provenance": [],
      "collapsed_sections": []
    },
    "kernelspec": {
      "name": "python3",
      "display_name": "Python 3"
    }
  },
  "cells": [
    {
      "cell_type": "code",
      "metadata": {
        "id": "FklTKMhgEeoc",
        "colab_type": "code",
        "colab": {}
      },
      "source": [
        "!pip install -U -q PyDrive\n",
        "from pydrive.auth import GoogleAuth\n",
        "from pydrive.drive import GoogleDrive\n",
        "from google.colab import auth\n",
        "from oauth2client.client import GoogleCredentials\n",
        "# Authenticate and create the PyDrive client.\n",
        "auth.authenticate_user()\n",
        "gauth = GoogleAuth()\n",
        "gauth.credentials = GoogleCredentials.get_application_default()\n",
        "drive = GoogleDrive(gauth)"
      ],
      "execution_count": 0,
      "outputs": []
    },
    {
      "cell_type": "code",
      "metadata": {
        "id": "kC5cjTEyKfem",
        "colab_type": "code",
        "outputId": "78ac0676-eb80-441d-cfc0-cc742c340754",
        "colab": {
          "base_uri": "https://localhost:8080/",
          "height": 33
        }
      },
      "source": [
        "link='https://drive.google.com/open?id=1XyM6a8dIs6XZJwgsQ86Qx9aWn_SH1QP_'\n",
        "fluff, id = link.split('=')\n",
        "print (id) # Verify that you have everything after '='\n",
        "downloaded = drive.CreateFile({'id':id})\n",
        "downloaded.GetContentFile('clean.csv')"
      ],
      "execution_count": 2,
      "outputs": [
        {
          "output_type": "stream",
          "text": [
            "1XyM6a8dIs6XZJwgsQ86Qx9aWn_SH1QP_\n"
          ],
          "name": "stdout"
        }
      ]
    },
    {
      "cell_type": "code",
      "metadata": {
        "id": "B9igtKaEKy42",
        "colab_type": "code",
        "colab": {}
      },
      "source": [
        "import pandas as pd"
      ],
      "execution_count": 0,
      "outputs": []
    },
    {
      "cell_type": "code",
      "metadata": {
        "id": "UR6dTR5bK7ol",
        "colab_type": "code",
        "outputId": "5ccbbf67-6622-48d9-cec0-a9858df12576",
        "colab": {
          "base_uri": "https://localhost:8080/",
          "height": 191
        }
      },
      "source": [
        "df = pd.read_csv(\"clean.csv\", engine=\"python\", index_col=0)\n",
        "df.head()"
      ],
      "execution_count": 4,
      "outputs": [
        {
          "output_type": "execute_result",
          "data": {
            "text/html": [
              "<div>\n",
              "<style scoped>\n",
              "    .dataframe tbody tr th:only-of-type {\n",
              "        vertical-align: middle;\n",
              "    }\n",
              "\n",
              "    .dataframe tbody tr th {\n",
              "        vertical-align: top;\n",
              "    }\n",
              "\n",
              "    .dataframe thead th {\n",
              "        text-align: right;\n",
              "    }\n",
              "</style>\n",
              "<table border=\"1\" class=\"dataframe\">\n",
              "  <thead>\n",
              "    <tr style=\"text-align: right;\">\n",
              "      <th></th>\n",
              "      <th>text</th>\n",
              "      <th>sentiment</th>\n",
              "    </tr>\n",
              "  </thead>\n",
              "  <tbody>\n",
              "    <tr>\n",
              "      <th>0</th>\n",
              "      <td>awww thats a bummer you shoulda got david car...</td>\n",
              "      <td>0</td>\n",
              "    </tr>\n",
              "    <tr>\n",
              "      <th>1</th>\n",
              "      <td>is upset that he cant update his facebook by t...</td>\n",
              "      <td>0</td>\n",
              "    </tr>\n",
              "    <tr>\n",
              "      <th>2</th>\n",
              "      <td>i dived many times for the ball managed to sa...</td>\n",
              "      <td>0</td>\n",
              "    </tr>\n",
              "    <tr>\n",
              "      <th>3</th>\n",
              "      <td>my whole body feels itchy and like its on fire</td>\n",
              "      <td>0</td>\n",
              "    </tr>\n",
              "    <tr>\n",
              "      <th>4</th>\n",
              "      <td>no its not behaving at all im mad why am i he...</td>\n",
              "      <td>0</td>\n",
              "    </tr>\n",
              "  </tbody>\n",
              "</table>\n",
              "</div>"
            ],
            "text/plain": [
              "                                                text  sentiment\n",
              "0   awww thats a bummer you shoulda got david car...          0\n",
              "1  is upset that he cant update his facebook by t...          0\n",
              "2   i dived many times for the ball managed to sa...          0\n",
              "3    my whole body feels itchy and like its on fire           0\n",
              "4   no its not behaving at all im mad why am i he...          0"
            ]
          },
          "metadata": {
            "tags": []
          },
          "execution_count": 4
        }
      ]
    },
    {
      "cell_type": "markdown",
      "metadata": {
        "id": "ucSpiy6RiYgg",
        "colab_type": "text"
      },
      "source": [
        "# Global Configuration"
      ]
    },
    {
      "cell_type": "code",
      "metadata": {
        "id": "1eQMNeAuieJ_",
        "colab_type": "code",
        "colab": {}
      },
      "source": [
        "MAX_WORDS = 20\n",
        "EMBEDDING_SIZE = 50\n",
        "BATCH_SIZE = 1024\n",
        "EPOCHS = 7\n",
        "LSTM_CELLS = 100\n",
        "LSTM_DROPOUT = 0.5\n",
        "DROPOUT_AFTER_EMBEDDING = 0.2"
      ],
      "execution_count": 0,
      "outputs": []
    },
    {
      "cell_type": "markdown",
      "metadata": {
        "id": "JwTX0eH-YrwM",
        "colab_type": "text"
      },
      "source": [
        "# Tokenization"
      ]
    },
    {
      "cell_type": "code",
      "metadata": {
        "id": "BLW2JIGraTiP",
        "colab_type": "code",
        "colab": {}
      },
      "source": [
        "x = df['text']\n",
        "y = [1 if x == 4 else 0 for x in df['sentiment']]"
      ],
      "execution_count": 0,
      "outputs": []
    },
    {
      "cell_type": "code",
      "metadata": {
        "id": "W5EUSHr5LX31",
        "colab_type": "code",
        "outputId": "a89f7fd2-f797-4eb3-b257-50cd6d7cb93e",
        "colab": {
          "base_uri": "https://localhost:8080/",
          "height": 93
        }
      },
      "source": [
        "from keras.preprocessing import sequence \n",
        "from keras.preprocessing.text import Tokenizer\n",
        "from keras.preprocessing.sequence import pad_sequences\n",
        "\n",
        "tokenizer = Tokenizer()\n",
        "tokenizer.fit_on_texts(x)\n",
        "x = pad_sequences(tokenizer.texts_to_sequences(x), maxlen=MAX_WORDS, padding=\"post\")\n",
        "\n",
        "vocab_size = len(tokenizer.word_index) + 1\n",
        "print('vocab size is : ', vocab_size)\n",
        "\n"
      ],
      "execution_count": 7,
      "outputs": [
        {
          "output_type": "stream",
          "text": [
            "Using TensorFlow backend.\n"
          ],
          "name": "stderr"
        },
        {
          "output_type": "display_data",
          "data": {
            "text/html": [
              "<p style=\"color: red;\">\n",
              "The default version of TensorFlow in Colab will soon switch to TensorFlow 2.x.<br>\n",
              "We recommend you <a href=\"https://www.tensorflow.org/guide/migrate\" target=\"_blank\">upgrade</a> now \n",
              "or ensure your notebook will continue to use TensorFlow 1.x via the <code>%tensorflow_version 1.x</code> magic:\n",
              "<a href=\"https://colab.research.google.com/notebooks/tensorflow_version.ipynb\" target=\"_blank\">more info</a>.</p>\n"
            ],
            "text/plain": [
              "<IPython.core.display.HTML object>"
            ]
          },
          "metadata": {
            "tags": []
          }
        },
        {
          "output_type": "stream",
          "text": [
            "vocab size is :  424606\n"
          ],
          "name": "stdout"
        }
      ]
    },
    {
      "cell_type": "code",
      "metadata": {
        "id": "aidXdyE1nKMW",
        "colab_type": "code",
        "outputId": "70ac3c6a-880d-4627-9580-a88287abc348",
        "colab": {
          "base_uri": "https://localhost:8080/",
          "height": 33
        }
      },
      "source": [
        "total_words = 0\n",
        "for rev in df['text']:\n",
        "  total_words += len(rev.split())\n",
        "\n",
        "print(\"words/review average : \", total_words/1600000)"
      ],
      "execution_count": 8,
      "outputs": [
        {
          "output_type": "stream",
          "text": [
            "words/review average :  12.392103125\n"
          ],
          "name": "stdout"
        }
      ]
    },
    {
      "cell_type": "markdown",
      "metadata": {
        "id": "pSUOTw-Ln0dz",
        "colab_type": "text"
      },
      "source": [
        "# Neural Network\n"
      ]
    },
    {
      "cell_type": "code",
      "metadata": {
        "id": "Tg-L4l1ondQ8",
        "colab_type": "code",
        "outputId": "15a9146c-f7c9-492d-a51e-cde8ad3e1119",
        "colab": {
          "base_uri": "https://localhost:8080/",
          "height": 606
        }
      },
      "source": [
        "# Build the model\n",
        "from keras import Sequential\n",
        "from keras.layers import Embedding, LSTM, Dense, Dropout, Bidirectional, GRU\n",
        "from keras import optimizers\n",
        "from keras import regularizers\n",
        "\n",
        "model=Sequential()\n",
        "model.add(Embedding(vocab_size, EMBEDDING_SIZE, input_length=MAX_WORDS))\n",
        "model.add(Dropout(DROPOUT_AFTER_EMBEDDING))\n",
        "model.add(LSTM(LSTM_CELLS, dropout=LSTM_DROPOUT))\n",
        "model.add(Dense(1, activation='sigmoid'))\n",
        "\n",
        "model.compile(optimizer= 'adam', loss='binary_crossentropy', metrics=['acc'])\n",
        "print(model.summary())"
      ],
      "execution_count": 9,
      "outputs": [
        {
          "output_type": "stream",
          "text": [
            "WARNING:tensorflow:From /usr/local/lib/python3.6/dist-packages/keras/backend/tensorflow_backend.py:66: The name tf.get_default_graph is deprecated. Please use tf.compat.v1.get_default_graph instead.\n",
            "\n",
            "WARNING:tensorflow:From /usr/local/lib/python3.6/dist-packages/keras/backend/tensorflow_backend.py:541: The name tf.placeholder is deprecated. Please use tf.compat.v1.placeholder instead.\n",
            "\n",
            "WARNING:tensorflow:From /usr/local/lib/python3.6/dist-packages/keras/backend/tensorflow_backend.py:4432: The name tf.random_uniform is deprecated. Please use tf.random.uniform instead.\n",
            "\n",
            "WARNING:tensorflow:From /usr/local/lib/python3.6/dist-packages/keras/backend/tensorflow_backend.py:148: The name tf.placeholder_with_default is deprecated. Please use tf.compat.v1.placeholder_with_default instead.\n",
            "\n",
            "WARNING:tensorflow:From /usr/local/lib/python3.6/dist-packages/keras/backend/tensorflow_backend.py:3733: calling dropout (from tensorflow.python.ops.nn_ops) with keep_prob is deprecated and will be removed in a future version.\n",
            "Instructions for updating:\n",
            "Please use `rate` instead of `keep_prob`. Rate should be set to `rate = 1 - keep_prob`.\n",
            "WARNING:tensorflow:From /usr/local/lib/python3.6/dist-packages/keras/optimizers.py:793: The name tf.train.Optimizer is deprecated. Please use tf.compat.v1.train.Optimizer instead.\n",
            "\n",
            "WARNING:tensorflow:From /usr/local/lib/python3.6/dist-packages/keras/backend/tensorflow_backend.py:3657: The name tf.log is deprecated. Please use tf.math.log instead.\n",
            "\n",
            "WARNING:tensorflow:From /usr/local/lib/python3.6/dist-packages/tensorflow_core/python/ops/nn_impl.py:183: where (from tensorflow.python.ops.array_ops) is deprecated and will be removed in a future version.\n",
            "Instructions for updating:\n",
            "Use tf.where in 2.0, which has the same broadcast rule as np.where\n",
            "Model: \"sequential_1\"\n",
            "_________________________________________________________________\n",
            "Layer (type)                 Output Shape              Param #   \n",
            "=================================================================\n",
            "embedding_1 (Embedding)      (None, 20, 50)            21230300  \n",
            "_________________________________________________________________\n",
            "dropout_1 (Dropout)          (None, 20, 50)            0         \n",
            "_________________________________________________________________\n",
            "lstm_1 (LSTM)                (None, 100)               60400     \n",
            "_________________________________________________________________\n",
            "dense_1 (Dense)              (None, 1)                 101       \n",
            "=================================================================\n",
            "Total params: 21,290,801\n",
            "Trainable params: 21,290,801\n",
            "Non-trainable params: 0\n",
            "_________________________________________________________________\n",
            "None\n"
          ],
          "name": "stdout"
        }
      ]
    },
    {
      "cell_type": "code",
      "metadata": {
        "id": "jCx2cg8vn_l6",
        "colab_type": "code",
        "colab": {}
      },
      "source": [
        "from sklearn.model_selection import train_test_split\n",
        "from keras.callbacks import EarlyStopping\n",
        "xTrain, xTest, yTrain, yTest = train_test_split(x, y, test_size = 0.05, random_state = 0)"
      ],
      "execution_count": 0,
      "outputs": []
    },
    {
      "cell_type": "code",
      "metadata": {
        "id": "Gt583Zk8oLga",
        "colab_type": "code",
        "outputId": "c17c4e79-7a39-4adf-cfcb-d2b42c38523b",
        "colab": {
          "base_uri": "https://localhost:8080/",
          "height": 541
        }
      },
      "source": [
        "hist = model.fit(xTrain, yTrain, batch_size=BATCH_SIZE, epochs=EPOCHS, verbose=1, shuffle=True, validation_split=0.2)"
      ],
      "execution_count": 11,
      "outputs": [
        {
          "output_type": "stream",
          "text": [
            "WARNING:tensorflow:From /usr/local/lib/python3.6/dist-packages/keras/backend/tensorflow_backend.py:1033: The name tf.assign_add is deprecated. Please use tf.compat.v1.assign_add instead.\n",
            "\n",
            "WARNING:tensorflow:From /usr/local/lib/python3.6/dist-packages/keras/backend/tensorflow_backend.py:1020: The name tf.assign is deprecated. Please use tf.compat.v1.assign instead.\n",
            "\n",
            "WARNING:tensorflow:From /usr/local/lib/python3.6/dist-packages/keras/backend/tensorflow_backend.py:3005: The name tf.Session is deprecated. Please use tf.compat.v1.Session instead.\n",
            "\n",
            "Train on 1216000 samples, validate on 304000 samples\n",
            "Epoch 1/7\n",
            "WARNING:tensorflow:From /usr/local/lib/python3.6/dist-packages/keras/backend/tensorflow_backend.py:190: The name tf.get_default_session is deprecated. Please use tf.compat.v1.get_default_session instead.\n",
            "\n",
            "WARNING:tensorflow:From /usr/local/lib/python3.6/dist-packages/keras/backend/tensorflow_backend.py:197: The name tf.ConfigProto is deprecated. Please use tf.compat.v1.ConfigProto instead.\n",
            "\n",
            "WARNING:tensorflow:From /usr/local/lib/python3.6/dist-packages/keras/backend/tensorflow_backend.py:207: The name tf.global_variables is deprecated. Please use tf.compat.v1.global_variables instead.\n",
            "\n",
            "WARNING:tensorflow:From /usr/local/lib/python3.6/dist-packages/keras/backend/tensorflow_backend.py:216: The name tf.is_variable_initialized is deprecated. Please use tf.compat.v1.is_variable_initialized instead.\n",
            "\n",
            "WARNING:tensorflow:From /usr/local/lib/python3.6/dist-packages/keras/backend/tensorflow_backend.py:223: The name tf.variables_initializer is deprecated. Please use tf.compat.v1.variables_initializer instead.\n",
            "\n",
            "1216000/1216000 [==============================] - 736s 605us/step - loss: 0.4622 - acc: 0.7788 - val_loss: 0.4220 - val_acc: 0.8050\n",
            "Epoch 2/7\n",
            "1216000/1216000 [==============================] - 747s 614us/step - loss: 0.4015 - acc: 0.8173 - val_loss: 0.4156 - val_acc: 0.8091\n",
            "Epoch 3/7\n",
            "1216000/1216000 [==============================] - 740s 609us/step - loss: 0.3691 - acc: 0.8349 - val_loss: 0.4141 - val_acc: 0.8113\n",
            "Epoch 4/7\n",
            "1216000/1216000 [==============================] - 730s 600us/step - loss: 0.3440 - acc: 0.8484 - val_loss: 0.4262 - val_acc: 0.8099\n",
            "Epoch 5/7\n",
            "1216000/1216000 [==============================] - 733s 603us/step - loss: 0.3241 - acc: 0.8582 - val_loss: 0.4305 - val_acc: 0.8094\n",
            "Epoch 6/7\n",
            "1216000/1216000 [==============================] - 743s 611us/step - loss: 0.3076 - acc: 0.8662 - val_loss: 0.4387 - val_acc: 0.8078\n",
            "Epoch 7/7\n",
            "1216000/1216000 [==============================] - 748s 615us/step - loss: 0.2928 - acc: 0.8732 - val_loss: 0.4663 - val_acc: 0.8061\n"
          ],
          "name": "stdout"
        }
      ]
    },
    {
      "cell_type": "markdown",
      "metadata": {
        "id": "EbHRygqcvzT2",
        "colab_type": "text"
      },
      "source": [
        "# Analyzing the results\n"
      ]
    },
    {
      "cell_type": "markdown",
      "metadata": {
        "id": "cQtl_1A-v8VN",
        "colab_type": "text"
      },
      "source": [
        "## Epoch plot\n"
      ]
    },
    {
      "cell_type": "code",
      "metadata": {
        "id": "pasKq76cu0pI",
        "colab_type": "code",
        "outputId": "ae94a939-58e6-4461-d225-948df8fbe9de",
        "colab": {
          "base_uri": "https://localhost:8080/",
          "height": 572
        }
      },
      "source": [
        "import matplotlib.pyplot as plt\n",
        "# Plot training & validation accuracy values\n",
        "plt.plot(hist.history['acc'])\n",
        "plt.plot(hist.history['val_acc'])\n",
        "plt.title('Model accuracy')\n",
        "plt.ylabel('Accuracy')\n",
        "plt.xlabel('Epoch')\n",
        "plt.legend(['Train', 'Test'], loc='upper left')\n",
        "plt.show()\n",
        "\n",
        "# Plot training & validation loss values\n",
        "plt.plot(hist.history['loss'])\n",
        "plt.plot(hist.history['val_loss'])\n",
        "plt.title('Model loss')\n",
        "plt.ylabel('Loss')\n",
        "plt.xlabel('Epoch')\n",
        "plt.legend(['Train', 'Test'], loc='upper left')\n",
        "plt.show() \n"
      ],
      "execution_count": 12,
      "outputs": [
        {
          "output_type": "display_data",
          "data": {
            "image/png": "[encoded data removed]",
            "text/plain": [
              "<Figure size 432x288 with 1 Axes>"
            ]
          },
          "metadata": {
            "tags": []
          }
        },
        {
          "output_type": "display_data",
          "data": {
            "image/png": "[encoded data removed]",
            "text/plain": [
              "<Figure size 432x288 with 1 Axes>"
            ]
          },
          "metadata": {
            "tags": []
          }
        }
      ]
    },
    {
      "cell_type": "markdown",
      "metadata": {
        "id": "xhKY6YqFwAd1",
        "colab_type": "text"
      },
      "source": [
        "## Actual predictions\n",
        "\n",
        "\n"
      ]
    },
    {
      "cell_type": "code",
      "metadata": {
        "id": "1wOH1lIpwLw0",
        "colab_type": "code",
        "outputId": "979f182d-e7e2-4a54-b813-0c99dfd9fd9f",
        "colab": {
          "base_uri": "https://localhost:8080/",
          "height": 310
        }
      },
      "source": [
        "test_1 = \"my favorite service out there i am simply in love with this\"\n",
        "test_2 = \"good service personel is friendly and good job\"\n",
        "test_3 = \"better than a lot of its competitors but a little bit under my expectations satisfying altogether\"\n",
        "test_4 = \"maybe I like this service I am still not sure\"\n",
        "test_5 = \"not the kind of service I would pay for but definetly something to keep a close eye on\"\n",
        "test_6 = \"i am a little disappointed by this service\"\n",
        "test_7 = \"tot a good service not a welcoming team a very sour experience what do u have exactly\"\n",
        "test_8 = \"so bad absolutely one of the worst\"\n",
        "test_9 = \"why all these bad predictions i can't understand\"\n",
        "\n",
        "test_samples = [test_1,test_2,test_3,test_4,test_5,test_6,test_7,test_8,test_9]\n",
        "\n",
        "test_samples_tokens = tokenizer.texts_to_sequences(test_samples)\n",
        "\n",
        "predicted_tokenized = pad_sequences(test_samples_tokens, maxlen=MAX_WORDS, padding='post')\n",
        "print(model.predict(predicted_tokenized))\n",
        "\n",
        "print(model.predict_classes(predicted_tokenized))"
      ],
      "execution_count": 13,
      "outputs": [
        {
          "output_type": "stream",
          "text": [
            "[[0.9754944 ]\n",
            " [0.99792826]\n",
            " [0.9349408 ]\n",
            " [0.15372747]\n",
            " [0.30885386]\n",
            " [0.02287856]\n",
            " [0.06333509]\n",
            " [0.03600538]\n",
            " [0.22773565]]\n",
            "[[1]\n",
            " [1]\n",
            " [1]\n",
            " [0]\n",
            " [0]\n",
            " [0]\n",
            " [0]\n",
            " [0]\n",
            " [0]]\n"
          ],
          "name": "stdout"
        }
      ]
    }
  ]
}