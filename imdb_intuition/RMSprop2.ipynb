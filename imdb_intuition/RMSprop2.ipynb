{
  "nbformat": 4,
  "nbformat_minor": 0,
  "metadata": {
    "colab": {
      "name": "split_train_dev_test.ipynb",
      "provenance": [],
      "collapsed_sections": []
    },
    "kernelspec": {
      "name": "python3",
      "display_name": "Python 3"
    }
  },
  "cells": [
    {
      "cell_type": "code",
      "metadata": {
        "id": "5IbP4Dl40fZr",
        "colab_type": "code",
        "outputId": "2fe833e2-dce4-43f5-a94a-e739d3e4bf9b",
        "colab": {
          "base_uri": "https://localhost:8080/",
          "height": 131
        }
      },
      "source": [
        "import pandas as pd\n",
        "import numpy as np\n",
        "import re\n",
        "import nltk\n",
        "import seaborn as sns\n",
        "\n",
        "from nltk.tokenize import word_tokenize\n",
        "from nltk.corpus import wordnet\n",
        "from nltk.corpus import stopwords\n",
        "from nltk.stem import WordNetLemmatizer \n",
        "\n",
        "nltk.download('wordnet')\n",
        "nltk.download('stopwords')\n",
        "nltk.download('punkt')\n"
      ],
      "execution_count": 1,
      "outputs": [
        {
          "output_type": "stream",
          "text": [
            "[nltk_data] Downloading package wordnet to /root/nltk_data...\n",
            "[nltk_data]   Package wordnet is already up-to-date!\n",
            "[nltk_data] Downloading package stopwords to /root/nltk_data...\n",
            "[nltk_data]   Package stopwords is already up-to-date!\n",
            "[nltk_data] Downloading package punkt to /root/nltk_data...\n",
            "[nltk_data]   Package punkt is already up-to-date!\n"
          ],
          "name": "stdout"
        },
        {
          "output_type": "execute_result",
          "data": {
            "text/plain": [
              "True"
            ]
          },
          "metadata": {
            "tags": []
          },
          "execution_count": 1
        }
      ]
    },
    {
      "cell_type": "code",
      "metadata": {
        "id": "LYqBipMv0olU",
        "colab_type": "code",
        "colab": {}
      },
      "source": [
        "# import a file from drive : \n",
        "!pip install -U -q PyDrive\n",
        "from pydrive.auth import GoogleAuth\n",
        "from pydrive.drive import GoogleDrive\n",
        "from google.colab import auth\n",
        "from oauth2client.client import GoogleCredentials\n",
        "# Authenticate and create the PyDrive client.\n",
        "auth.authenticate_user()\n",
        "gauth = GoogleAuth()\n",
        "gauth.credentials = GoogleCredentials.get_application_default()\n",
        "drive = GoogleDrive(gauth)"
      ],
      "execution_count": 0,
      "outputs": []
    },
    {
      "cell_type": "code",
      "metadata": {
        "id": "oW7azK500vqy",
        "colab_type": "code",
        "outputId": "6aa61883-9d6b-498d-b52c-3aabd9115a1f",
        "colab": {
          "base_uri": "https://localhost:8080/",
          "height": 33
        }
      },
      "source": [
        "link = 'https://drive.google.com/open?id=1g2BefhpdVbg6aeFcngD52p_HLza6nQDm'\n",
        "fluff, id = link.split('=')\n",
        "print (id) # Verify that you have everything after '='\n",
        "downloaded = drive.CreateFile({'id':id}) \n",
        "downloaded.GetContentFile('IMDB Dataset.csv')  \n",
        "imdb = pd.read_csv('IMDB Dataset.csv')\n"
      ],
      "execution_count": 3,
      "outputs": [
        {
          "output_type": "stream",
          "text": [
            "1g2BefhpdVbg6aeFcngD52p_HLza6nQDm\n"
          ],
          "name": "stdout"
        }
      ]
    },
    {
      "cell_type": "code",
      "metadata": {
        "id": "uBakykoJ1nDc",
        "colab_type": "code",
        "colab": {}
      },
      "source": [
        "x = imdb[\"review\"]\n",
        "y = [1 if word==\"positive\" else 0 for word in imdb[\"sentiment\"]]"
      ],
      "execution_count": 0,
      "outputs": []
    },
    {
      "cell_type": "code",
      "metadata": {
        "id": "j21B9aRS4Qpg",
        "colab_type": "code",
        "colab": {}
      },
      "source": [
        "stop_words = set(stopwords.words('english'))- set(['no', 'not', 'nor'])\n",
        "lemmatizer = WordNetLemmatizer() \n",
        "\n",
        "def preprocess_text(text):\n",
        "  # Removing html tags\n",
        "  text = re.sub(r'<[^>]+>', '', text)\n",
        "  \n",
        "  # Remove punctuations and numbers\n",
        "  text = re.sub('[^a-zA-Z]', ' ', text)\n",
        "\n",
        "  # Remove subsequent spaces\n",
        "  text = re.sub(r'\\s+', ' ', text)\n",
        "  \n",
        "  return text.lower()"
      ],
      "execution_count": 0,
      "outputs": []
    },
    {
      "cell_type": "code",
      "metadata": {
        "id": "FyY8qy9AnvOV",
        "colab_type": "code",
        "outputId": "e582f698-761e-4d64-d555-b1d781c38df5",
        "colab": {
          "base_uri": "https://localhost:8080/",
          "height": 33
        }
      },
      "source": [
        "preprocess_text(\"I love this is this the best or the worst, my eyes are popping out <br hd='strng'>\")"
      ],
      "execution_count": 6,
      "outputs": [
        {
          "output_type": "execute_result",
          "data": {
            "text/plain": [
              "'i love this is this the best or the worst my eyes are popping out '"
            ]
          },
          "metadata": {
            "tags": []
          },
          "execution_count": 6
        }
      ]
    },
    {
      "cell_type": "code",
      "metadata": {
        "id": "Xs0TkK5a4yEI",
        "colab_type": "code",
        "colab": {}
      },
      "source": [
        "x = [preprocess_text(review) for review in imdb[\"review\"]]"
      ],
      "execution_count": 0,
      "outputs": []
    },
    {
      "cell_type": "code",
      "metadata": {
        "id": "CxOrP8tVtmrS",
        "colab_type": "code",
        "outputId": "003df988-a830-45c3-d7d5-a1ff25b31b73",
        "colab": {
          "base_uri": "https://localhost:8080/",
          "height": 295
        }
      },
      "source": [
        "import seaborn as sns\n",
        "\n",
        "sns.countplot(x='sentiment', data=imdb)"
      ],
      "execution_count": 8,
      "outputs": [
        {
          "output_type": "execute_result",
          "data": {
            "text/plain": [
              "<matplotlib.axes._subplots.AxesSubplot at 0x7f390eb8ea90>"
            ]
          },
          "metadata": {
            "tags": []
          },
          "execution_count": 8
        },
        {
          "output_type": "display_data",
          "data": {
            "image/png": "[encoded data removed]",
            "text/plain": [
              "<Figure size 432x288 with 1 Axes>"
            ]
          },
          "metadata": {
            "tags": []
          }
        }
      ]
    },
    {
      "cell_type": "code",
      "metadata": {
        "id": "yHsuk739VF_3",
        "colab_type": "code",
        "outputId": "745d09f3-3161-4260-b5bb-06128062d0e5",
        "colab": {
          "base_uri": "https://localhost:8080/",
          "height": 77
        }
      },
      "source": [
        "from keras.preprocessing import sequence \n",
        "from keras.preprocessing.text import Tokenizer\n",
        "from keras.preprocessing.sequence import pad_sequences\n",
        "\n",
        "max_words = 220\n",
        "\n",
        "y = [1 if sentiment=='positive' else 0 for sentiment in list(imdb['sentiment'])]\n",
        "tokenizer = Tokenizer()\n",
        "tokenizer.fit_on_texts(x)\n",
        "x = pad_sequences(tokenizer.texts_to_sequences(x), maxlen=max_words, padding=\"post\")\n"
      ],
      "execution_count": 9,
      "outputs": [
        {
          "output_type": "stream",
          "text": [
            "Using TensorFlow backend.\n"
          ],
          "name": "stderr"
        },
        {
          "output_type": "display_data",
          "data": {
            "text/html": [
              "<p style=\"color: red;\">\n",
              "The default version of TensorFlow in Colab will soon switch to TensorFlow 2.x.<br>\n",
              "We recommend you <a href=\"https://www.tensorflow.org/guide/migrate\" target=\"_blank\">upgrade</a> now \n",
              "or ensure your notebook will continue to use TensorFlow 1.x via the <code>%tensorflow_version 1.x</code> magic:\n",
              "<a href=\"https://colab.research.google.com/notebooks/tensorflow_version.ipynb\" target=\"_blank\">more info</a>.</p>\n"
            ],
            "text/plain": [
              "<IPython.core.display.HTML object>"
            ]
          },
          "metadata": {
            "tags": []
          }
        }
      ]
    },
    {
      "cell_type": "code",
      "metadata": {
        "id": "zURiNK1644bd",
        "colab_type": "code",
        "outputId": "2fddfb7c-a203-43a8-b882-8766454bb61c",
        "colab": {
          "base_uri": "https://localhost:8080/",
          "height": 492
        }
      },
      "source": [
        "# Build the model\n",
        "from keras import Sequential\n",
        "from keras.layers import Embedding, LSTM, Dense, Dropout\n",
        "from keras import optimizers\n",
        "\n",
        "\n",
        "# Set the vocab size for all words\n",
        "vocabulary_size = len(tokenizer.word_counts.keys())+1\n",
        "# vocabulary_size = 25000\n",
        "\n",
        "embedding_size=32\n",
        "model=Sequential()\n",
        "model.add(Embedding(vocabulary_size, embedding_size, input_length=max_words))\n",
        "model.add(LSTM(64))\n",
        "model.add(Dense(1, activation='sigmoid'))\n",
        "\n",
        "\n",
        "model.compile(optimizer= 'RMSprop', loss='binary_crossentropy', metrics=['acc'])\n",
        "\n",
        "print(model.summary())\n",
        "\n"
      ],
      "execution_count": 10,
      "outputs": [
        {
          "output_type": "stream",
          "text": [
            "WARNING:tensorflow:From /usr/local/lib/python3.6/dist-packages/keras/backend/tensorflow_backend.py:66: The name tf.get_default_graph is deprecated. Please use tf.compat.v1.get_default_graph instead.\n",
            "\n",
            "WARNING:tensorflow:From /usr/local/lib/python3.6/dist-packages/keras/backend/tensorflow_backend.py:541: The name tf.placeholder is deprecated. Please use tf.compat.v1.placeholder instead.\n",
            "\n",
            "WARNING:tensorflow:From /usr/local/lib/python3.6/dist-packages/keras/backend/tensorflow_backend.py:4432: The name tf.random_uniform is deprecated. Please use tf.random.uniform instead.\n",
            "\n",
            "WARNING:tensorflow:From /usr/local/lib/python3.6/dist-packages/keras/optimizers.py:793: The name tf.train.Optimizer is deprecated. Please use tf.compat.v1.train.Optimizer instead.\n",
            "\n",
            "WARNING:tensorflow:From /usr/local/lib/python3.6/dist-packages/keras/backend/tensorflow_backend.py:3657: The name tf.log is deprecated. Please use tf.math.log instead.\n",
            "\n",
            "WARNING:tensorflow:From /usr/local/lib/python3.6/dist-packages/tensorflow_core/python/ops/nn_impl.py:183: where (from tensorflow.python.ops.array_ops) is deprecated and will be removed in a future version.\n",
            "Instructions for updating:\n",
            "Use tf.where in 2.0, which has the same broadcast rule as np.where\n",
            "Model: \"sequential_1\"\n",
            "_________________________________________________________________\n",
            "Layer (type)                 Output Shape              Param #   \n",
            "=================================================================\n",
            "embedding_1 (Embedding)      (None, 220, 32)           3244768   \n",
            "_________________________________________________________________\n",
            "lstm_1 (LSTM)                (None, 64)                24832     \n",
            "_________________________________________________________________\n",
            "dense_1 (Dense)              (None, 1)                 65        \n",
            "=================================================================\n",
            "Total params: 3,269,665\n",
            "Trainable params: 3,269,665\n",
            "Non-trainable params: 0\n",
            "_________________________________________________________________\n",
            "None\n"
          ],
          "name": "stdout"
        }
      ]
    },
    {
      "cell_type": "code",
      "metadata": {
        "id": "x0on_xJB5iu4",
        "colab_type": "code",
        "colab": {}
      },
      "source": [
        "from sklearn.model_selection import train_test_split\n",
        "xTrain, xTest, yTrain, yTest = train_test_split(x, y, test_size = 0.1, random_state = 0)"
      ],
      "execution_count": 0,
      "outputs": []
    },
    {
      "cell_type": "code",
      "metadata": {
        "id": "FJDghfhP6HHV",
        "colab_type": "code",
        "outputId": "5bbfcc10-ec42-40de-95c1-47122ddf59ce",
        "colab": {
          "base_uri": "https://localhost:8080/",
          "height": 443
        }
      },
      "source": [
        "batchSize = 512\n",
        "epochs = 4\n",
        "hist = model.fit(xTrain, yTrain, batch_size=batchSize, epochs=epochs, verbose=1, shuffle=True, validation_split=0.2)\n",
        "\n"
      ],
      "execution_count": 12,
      "outputs": [
        {
          "output_type": "stream",
          "text": [
            "WARNING:tensorflow:From /usr/local/lib/python3.6/dist-packages/keras/backend/tensorflow_backend.py:1033: The name tf.assign_add is deprecated. Please use tf.compat.v1.assign_add instead.\n",
            "\n",
            "WARNING:tensorflow:From /usr/local/lib/python3.6/dist-packages/keras/backend/tensorflow_backend.py:1020: The name tf.assign is deprecated. Please use tf.compat.v1.assign instead.\n",
            "\n",
            "WARNING:tensorflow:From /usr/local/lib/python3.6/dist-packages/keras/backend/tensorflow_backend.py:3005: The name tf.Session is deprecated. Please use tf.compat.v1.Session instead.\n",
            "\n",
            "Train on 36000 samples, validate on 9000 samples\n",
            "Epoch 1/4\n",
            "WARNING:tensorflow:From /usr/local/lib/python3.6/dist-packages/keras/backend/tensorflow_backend.py:190: The name tf.get_default_session is deprecated. Please use tf.compat.v1.get_default_session instead.\n",
            "\n",
            "WARNING:tensorflow:From /usr/local/lib/python3.6/dist-packages/keras/backend/tensorflow_backend.py:197: The name tf.ConfigProto is deprecated. Please use tf.compat.v1.ConfigProto instead.\n",
            "\n",
            "WARNING:tensorflow:From /usr/local/lib/python3.6/dist-packages/keras/backend/tensorflow_backend.py:207: The name tf.global_variables is deprecated. Please use tf.compat.v1.global_variables instead.\n",
            "\n",
            "WARNING:tensorflow:From /usr/local/lib/python3.6/dist-packages/keras/backend/tensorflow_backend.py:216: The name tf.is_variable_initialized is deprecated. Please use tf.compat.v1.is_variable_initialized instead.\n",
            "\n",
            "WARNING:tensorflow:From /usr/local/lib/python3.6/dist-packages/keras/backend/tensorflow_backend.py:223: The name tf.variables_initializer is deprecated. Please use tf.compat.v1.variables_initializer instead.\n",
            "\n",
            "36000/36000 [==============================] - 70s 2ms/step - loss: 0.6582 - acc: 0.6039 - val_loss: 0.4779 - val_acc: 0.8048\n",
            "Epoch 2/4\n",
            "36000/36000 [==============================] - 70s 2ms/step - loss: 0.4500 - acc: 0.8257 - val_loss: 0.3813 - val_acc: 0.8680\n",
            "Epoch 3/4\n",
            "36000/36000 [==============================] - 70s 2ms/step - loss: 0.3424 - acc: 0.8812 - val_loss: 0.3415 - val_acc: 0.8732\n",
            "Epoch 4/4\n",
            "36000/36000 [==============================] - 71s 2ms/step - loss: 0.2912 - acc: 0.9035 - val_loss: 0.2911 - val_acc: 0.8916\n"
          ],
          "name": "stdout"
        }
      ]
    },
    {
      "cell_type": "code",
      "metadata": {
        "id": "coPnQXsO6W5f",
        "colab_type": "code",
        "outputId": "65bd0876-8b6a-4f59-96ea-5c15e23c45c7",
        "colab": {
          "base_uri": "https://localhost:8080/",
          "height": 33
        }
      },
      "source": [
        "scores = model.evaluate(xTest, yTest, verbose=0)\n",
        "print('Test accuracy:', scores[1])"
      ],
      "execution_count": 13,
      "outputs": [
        {
          "output_type": "stream",
          "text": [
            "Test accuracy: 0.8866\n"
          ],
          "name": "stdout"
        }
      ]
    },
    {
      "cell_type": "code",
      "metadata": {
        "id": "FH3ZEDJva-Uu",
        "colab_type": "code",
        "outputId": "ec7b8a28-9d8f-427e-dc4a-9cef7606bed4",
        "colab": {
          "base_uri": "https://localhost:8080/",
          "height": 572
        }
      },
      "source": [
        "import matplotlib.pyplot as plt\n",
        "# Plot training & validation accuracy values\n",
        "plt.plot(hist.history['acc'])\n",
        "plt.plot(hist.history['val_acc'])\n",
        "plt.title('Model accuracy')\n",
        "plt.ylabel('Accuracy')\n",
        "plt.xlabel('Epoch')\n",
        "plt.legend(['Train', 'Test'], loc='upper left')\n",
        "plt.show()\n",
        "\n",
        "# Plot training & validation loss values\n",
        "plt.plot(hist.history['loss'])\n",
        "plt.plot(hist.history['val_loss'])\n",
        "plt.title('Model loss')\n",
        "plt.ylabel('Loss')\n",
        "plt.xlabel('Epoch')\n",
        "plt.legend(['Train', 'Test'], loc='upper left')\n",
        "plt.show() "
      ],
      "execution_count": 14,
      "outputs": [
        {
          "output_type": "display_data",
          "data": {
            "image/png": "[encoded data removed]",
            "text/plain": [
              "<Figure size 432x288 with 1 Axes>"
            ]
          },
          "metadata": {
            "tags": []
          }
        },
        {
          "output_type": "display_data",
          "data": {
            "image/png": "[encoded data removed]",
            "text/plain": [
              "<Figure size 432x288 with 1 Axes>"
            ]
          },
          "metadata": {
            "tags": []
          }
        }
      ]
    },
    {
      "cell_type": "code",
      "metadata": {
        "id": "v2N8_dPV8OTh",
        "colab_type": "code",
        "outputId": "084c90e7-0c2c-435c-f8fe-a052389392f7",
        "colab": {
          "base_uri": "https://localhost:8080/",
          "height": 50
        }
      },
      "source": [
        "instance = [\"awesome i will definetly use it again\"]\n",
        "instance = tokenizer.texts_to_sequences(instance)\n",
        "\n",
        "instance = pad_sequences(instance, maxlen=max_words, padding=\"post\")\n",
        "print(model.predict_classes(instance))\n",
        "print(model.predict(instance))"
      ],
      "execution_count": 15,
      "outputs": [
        {
          "output_type": "stream",
          "text": [
            "[[1]]\n",
            "[[0.94097704]]\n"
          ],
          "name": "stdout"
        }
      ]
    },
    {
      "cell_type": "code",
      "metadata": {
        "id": "M9GLFGas21oV",
        "colab_type": "code",
        "outputId": "9aee01ed-7707-49c6-cb94-97028e93cef6",
        "colab": {
          "base_uri": "https://localhost:8080/",
          "height": 147
        }
      },
      "source": [
        "test_1 = \"This movie is great, I simply love it\"\n",
        "test_2 = \"Good movie!\"\n",
        "test_3 = \"if you like action, then this movie is good for you\"\n",
        "test_4 = \"Maybe I like this movie!\"\n",
        "test_5 = \"Not my taste, will skip and watch another movie\"\n",
        "test_6 = \"Bad Movie!\"\n",
        "test_7 = \"Not a good service \"\n",
        "test_8 = \"This movie really sucks! Can I get my money back please?\"\n",
        "\n",
        "test_samples = [test_1, test_2, test_3, test_4, test_5, test_6, test_7, test_8]\n",
        "\n",
        "test_samples_tokens = tokenizer.texts_to_sequences(test_samples)\n",
        "\n",
        "\n",
        "\n",
        "predicted_tokenized = pad_sequences(test_samples_tokens, maxlen=max_words, padding=\"post\")\n",
        "model.predict(predicted_tokenized)"
      ],
      "execution_count": 16,
      "outputs": [
        {
          "output_type": "execute_result",
          "data": {
            "text/plain": [
              "array([[0.9409667 ],\n",
              "       [0.93974817],\n",
              "       [0.94064534],\n",
              "       [0.11010113],\n",
              "       [0.04883668],\n",
              "       [0.04869634],\n",
              "       [0.2193054 ],\n",
              "       [0.0486275 ]], dtype=float32)"
            ]
          },
          "metadata": {
            "tags": []
          },
          "execution_count": 16
        }
      ]
    },
    {
      "cell_type": "code",
      "metadata": {
        "id": "nGEPtZ_dY5Qz",
        "colab_type": "code",
        "outputId": "9032c754-1c59-490e-945b-dd2445efb5d1",
        "colab": {
          "base_uri": "https://localhost:8080/",
          "height": 163
        }
      },
      "source": [
        "test_1 = \"My favorite service out there. I am simply in love with this\"\n",
        "test_2 = \"Good service personel is friendly and . Good job\"\n",
        "test_3 = \"Better than a lot of its competitors, but a little bit under my expectations. Satisfying altogether\"\n",
        "test_4 = \"Maybe I like this service, I am still not sure.\"\n",
        "test_5 = \"Not the kind of service I would pay for, but definetly something to keep a close eye on\"\n",
        "test_6 = \"I am a little disappointed by this service\"\n",
        "test_7 = \"Not a good service\"\n",
        "test_8 = \"I would never buy a product from your company again. The amount of sad events I had is just too much.\"\n",
        "test_9 = \"I cannot believe I have ever considered this, please return my money\"\n",
        "\n",
        "test_samples = [test_1, test_2, test_3, test_4, test_5, test_6,test_7, test_8, test_9]\n",
        "test_samples = [preprocess_text(example) for example in test_samples]\n",
        "\n",
        "\n",
        "test_samples_tokens = tokenizer.texts_to_sequences(test_samples)\n",
        "\n",
        "\n",
        "predicted_tokenized = pad_sequences(test_samples_tokens, maxlen=max_words, padding='post')\n",
        "model.predict_classes(predicted_tokenized)"
      ],
      "execution_count": 18,
      "outputs": [
        {
          "output_type": "execute_result",
          "data": {
            "text/plain": [
              "array([[1],\n",
              "       [1],\n",
              "       [1],\n",
              "       [1],\n",
              "       [0],\n",
              "       [0],\n",
              "       [0],\n",
              "       [0],\n",
              "       [0]], dtype=int32)"
            ]
          },
          "metadata": {
            "tags": []
          },
          "execution_count": 18
        }
      ]
    },
    {
      "cell_type": "code",
      "metadata": {
        "id": "_GZiP6omuCvO",
        "colab_type": "code",
        "colab": {}
      },
      "source": [
        ""
      ],
      "execution_count": 0,
      "outputs": []
    }
  ]
}